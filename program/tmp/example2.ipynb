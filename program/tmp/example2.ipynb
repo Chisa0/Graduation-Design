{
 "cells": [
  {
   "cell_type": "code",
   "execution_count": 45,
   "id": "71eabd50",
   "metadata": {},
   "outputs": [
    {
     "data": {
      "image/png": "[encoded data removed]",
      "text/plain": [
       "<Figure size 432x288 with 1 Axes>"
      ]
     },
     "metadata": {
      "needs_background": "light"
     },
     "output_type": "display_data"
    }
   ],
   "source": [
    "import numpy as np\n",
    "import matplotlib.pyplot as plt\n",
    "from fealpy.mesh import TriangleMesh\n",
    "\n",
    "node = np.array([[0,0],\n",
    "                [1,0],\n",
    "                [2,0],\n",
    "                [0,1],\n",
    "                [1,1],\n",
    "                [2,1],\n",
    "                [0,2],\n",
    "                [1,2],\n",
    "                [2,2]], dtype=np.float64) \n",
    "node = node / 2\n",
    "cell = np.array([[0,1,4],\n",
    "                [0,4,3],\n",
    "                [1,2,5],\n",
    "                [1,5,4],\n",
    "                [3,4,7],\n",
    "                [3,7,6],\n",
    "                [4,5,8],\n",
    "                [4,8,7]], dtype=np.int64)\n",
    "\n",
    "## [4,nn] 返回各个区间都有哪些点\n",
    "def getWhichCellNode(node):\n",
    "    isWhichCellNode = np.zeros((4,node.shape[0]), dtype=bool)\n",
    "    for i in range(node.shape[0]):\n",
    "        a = node[i, 0] - 0\n",
    "        b = node[i, 1] - 0\n",
    "        if a <= 0.5 and b <= 0.5:\n",
    "            isWhichCellNode[0,i] = True\n",
    "        if a >= 0.5 and b <= 0.5:\n",
    "            isWhichCellNode[1,i] = True\n",
    "        if a <= 0.5 and b >= 0.5:\n",
    "            isWhichCellNode[2,i] = True\n",
    "        if a >= 0.5 and b >= 0.5:\n",
    "            isWhichCellNode[3,i] = True\n",
    "    index = np.array([np.where(isWhichCellNode[0] == True)\n",
    "                      , np.where(isWhichCellNode[1] == True)\n",
    "                      ,np.where(isWhichCellNode[2] == True)\n",
    "                      ,np.where(isWhichCellNode[3] == True)])\n",
    "    nn = index.shape[2]\n",
    "    index = index.reshape(4,nn)\n",
    "    return index\n",
    "\n",
    "def getTransformCellNodeIndex(index):\n",
    "    nn = index.shape[1]\n",
    "    transformIndex = np.zeros((4,nn,2), dtype=np.int64)\n",
    "    transformIndex[:,:,0] = 2 * index\n",
    "    transformIndex[:,:,1] = 2 * index + 1\n",
    "    transformIndex = transformIndex.reshape(4,2*nn)\n",
    "    return transformIndex\n",
    "\n",
    "n = 0\n",
    "mesh = TriangleMesh(node, cell)\n",
    "mesh.uniform_refine(n)\n",
    "\n",
    "fig = plt.figure()\n",
    "ax = fig.gca()\n",
    "\n",
    "mesh.add_plot(ax)\n",
    "mesh.find_node(ax, showindex=True)\n",
    "mesh.find_cell(ax, showindex=True)"
   ]
  },
  {
   "cell_type": "code",
   "execution_count": 46,
   "id": "40de84c5",
   "metadata": {},
   "outputs": [
    {
     "name": "stdout",
     "output_type": "stream",
     "text": [
      "index[0]= [0 1 3 4]\n",
      "index[1]= [1 2 4 5]\n",
      "index[2]= [3 4 6 7]\n",
      "index[3]= [4 5 7 8]\n",
      "TransformCellNode[0]= [0 1 2 3 6 7 8 9]\n",
      "TransformCellNode[1]= [ 2  3  4  5  8  9 10 11]\n",
      "TransformCellNode[2]= [ 6  7  8  9 12 13 14 15]\n",
      "TransformCellNode[3]= [ 8  9 10 11 14 15 16 17]\n"
     ]
    }
   ],
   "source": [
    "index = getWhichCellNode(node)\n",
    "\n",
    "for i in range(4):\n",
    "    print(\"index[{}]= {}\".format(i, index[i]))\n",
    "    \n",
    "transformIndex = getTransformCellNodeIndex(index)\n",
    "for i in range(4):\n",
    "    print(\"TransformCellNode[{}]= {}\".format(i, transformIndex[i]))"
   ]
  },
  {
   "cell_type": "code",
   "execution_count": 33,
   "id": "aa49911a",
   "metadata": {},
   "outputs": [
    {
     "name": "stdout",
     "output_type": "stream",
     "text": [
      "a=  [[1. 1. 1. 1. 1. 1. 1. 1. 1.]\n",
      " [1. 1. 1. 1. 1. 1. 1. 1. 1.]\n",
      " [1. 1. 1. 1. 1. 1. 1. 1. 1.]\n",
      " [1. 1. 1. 1. 1. 1. 1. 1. 1.]\n",
      " [1. 1. 1. 1. 1. 1. 1. 1. 1.]\n",
      " [1. 1. 1. 1. 1. 1. 1. 1. 1.]\n",
      " [1. 1. 1. 1. 1. 1. 1. 1. 1.]\n",
      " [1. 1. 1. 1. 1. 1. 1. 1. 1.]\n",
      " [1. 1. 1. 1. 1. 1. 1. 1. 1.]]\n",
      "a=  [[1. 1. 1. 1.]\n",
      " [1. 1. 1. 1.]\n",
      " [1. 1. 1. 1.]\n",
      " [1. 1. 1. 1.]]\n",
      "a=  [[1. 1. 1. 1. 1. 1. 1. 1. 1.]\n",
      " [1. 1. 1. 1. 1. 1. 1. 1. 1.]\n",
      " [1. 1. 1. 1. 1. 1. 1. 1. 1.]]\n",
      "a=  [[1. 1. 1. 1. 1. 1. 1. 1. 1.]\n",
      " [2. 2. 2. 2. 2. 2. 2. 2. 2.]\n",
      " [2. 2. 2. 2. 2. 2. 2. 2. 2.]\n",
      " [2. 2. 2. 2. 2. 2. 2. 2. 2.]\n",
      " [1. 1. 1. 1. 1. 1. 1. 1. 1.]\n",
      " [1. 1. 1. 1. 1. 1. 1. 1. 1.]\n",
      " [1. 1. 1. 1. 1. 1. 1. 1. 1.]\n",
      " [1. 1. 1. 1. 1. 1. 1. 1. 1.]\n",
      " [1. 1. 1. 1. 1. 1. 1. 1. 1.]]\n"
     ]
    }
   ],
   "source": [
    "NN = node.shape[0]\n",
    "a = np.ones((NN,NN))\n",
    "print(\"a= \", a)\n",
    "print(\"a= \", a[:, CellNode[1]][CellNode[1]])\n",
    "a[:, CellNode[1]][CellNode[1]] = 2\n",
    "print(\"a= \", a[[1,2,3]])\n",
    "a[[1,2,3]] += 1\n",
    "print(\"a= \", a)"
   ]
  },
  {
   "cell_type": "code",
   "execution_count": 37,
   "id": "98683540",
   "metadata": {},
   "outputs": [
    {
     "name": "stdout",
     "output_type": "stream",
     "text": [
      "index=  (array([0, 1, 3, 4]),)\n"
     ]
    }
   ],
   "source": [
    "index = np.where(CellNode[0] == True)\n",
    "print(\"index= \", index)"
   ]
  },
  {
   "cell_type": "code",
   "execution_count": 5,
   "id": "c4f98a65",
   "metadata": {},
   "outputs": [
    {
     "name": "stdout",
     "output_type": "stream",
     "text": [
      "[0 3]\n"
     ]
    }
   ],
   "source": [
    "import numpy as np\n",
    "\n",
    "a = np.array([1,2,3])\n",
    "new_cr_cell = np.array([[1,2,3],\n",
    "                       [0,0,0],\n",
    "                       [2,1,3],\n",
    "                       [1,2,3]])\n",
    "\n",
    "i = np.where((new_cr_cell == a).all(axis=1))[0]\n",
    "print(i)"
   ]
  },
  {
   "cell_type": "code",
   "execution_count": null,
   "id": "674f717d",
   "metadata": {},
   "outputs": [],
   "source": []
  }
 ],
 "metadata": {
  "kernelspec": {
   "display_name": "Python 3 (ipykernel)",
   "language": "python",
   "name": "python3"
  },
  "language_info": {
   "codemirror_mode": {
    "name": "ipython",
    "version": 3
   },
   "file_extension": ".py",
   "mimetype": "text/x-python",
   "name": "python",
   "nbconvert_exporter": "python",
   "pygments_lexer": "ipython3",
   "version": "3.9.12"
  }
 },
 "nbformat": 4,
 "nbformat_minor": 5
}
