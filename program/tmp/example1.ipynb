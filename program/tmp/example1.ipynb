{
 "cells": [
  {
   "cell_type": "code",
   "execution_count": 4,
   "id": "4d910edd",
   "metadata": {},
   "outputs": [
    {
     "name": "stdout",
     "output_type": "stream",
     "text": [
      "1.25\n"
     ]
    }
   ],
   "source": [
    "from scipy.integrate import dblquad\n",
    "\n",
    "def f(x, y):\n",
    "    return x * y\n",
    "\n",
    "def g(x, y):\n",
    "    return x + y\n",
    "\n",
    "def w(x, y):\n",
    "    return f(x, y) + g(x, y)\n",
    "\n",
    "a, b = 0, 1\n",
    "c, d = 0, 1\n",
    "\n",
    "result, error = dblquad(w, a, b, c, d)\n",
    "print(result)"
   ]
  },
  {
   "cell_type": "code",
   "execution_count": 9,
   "id": "6824ec58",
   "metadata": {},
   "outputs": [
    {
     "name": "stdout",
     "output_type": "stream",
     "text": [
      "[2 3]\n"
     ]
    }
   ],
   "source": [
    "import numpy as np\n",
    "\n",
    "a = np.array([1,2])\n",
    "h = lambda x : x + 1\n",
    "print(h(a))"
   ]
  },
  {
   "cell_type": "code",
   "execution_count": 128,
   "id": "dc603460",
   "metadata": {},
   "outputs": [
    {
     "name": "stdout",
     "output_type": "stream",
     "text": [
      "NC=  8192\n",
      "node_cell_e=  0.015625\n",
      "运行时间 :  10.131927013397217\n"
     ]
    }
   ],
   "source": [
    "import time \n",
    "import numpy as np\n",
    "from numpy.linalg import solve\n",
    "from scipy.sparse.linalg import spsolve\n",
    "from scipy.sparse import csr_matrix\n",
    "import matplotlib.pyplot as plt\n",
    "\n",
    "from fealpy.decorator import cartesian\n",
    "from fealpy.mesh import TriangleMesh\n",
    "from fealpy.functionspace import LagrangeFiniteElementSpace\n",
    "from fealpy.boundarycondition import DirichletBC\n",
    "\n",
    "class PDE():\n",
    "    def __init__(self, mu=1, lam=1):\n",
    "        self.mu  = mu\n",
    "        self.lam = lam\n",
    "        \n",
    "    def domain(self):\n",
    "        return [0, 1, 0, 1]\n",
    "    \n",
    "    def init_mesh(self, n=1, meshtype='tri'):\n",
    "        node = np.array([\n",
    "            (0,0),\n",
    "            (1,0),\n",
    "            (1,1),\n",
    "            (0,1)], dtype=np.float64)\n",
    "        cell = np.array([(1,2,0), (3,0,2)], dtype=np.int64)\n",
    "        mesh = TriangleMesh(node, cell)\n",
    "        mesh.uniform_refine(n)\n",
    "        return mesh\n",
    "\n",
    "#判断 P (维度[2]) 是否在 cr_node, 是则放回其下标，否则 (val = 1 时) 将 P 加入 cr_node 并返回下标\n",
    "def is_in_cr_node(p, cr_node, val=0):\n",
    "    #p 不会为[0,0]\n",
    "    #print(\"p= \", p)\n",
    "    #print(\"cr_node[0]= \", cr_node[0])\n",
    "    index = np.where((cr_node == p).all(axis=1))[0]\n",
    "    if len(index):\n",
    "        return index[0]\n",
    "    else:\n",
    "        in_index = np.where((cr_node == np.array([0,0])).all(axis=1))[0]\n",
    "        if len(in_index) == 0:\n",
    "            print(\"len(in_index)= \", len(in_index))\n",
    "            raise Exception(\"数组cr_node已满\")\n",
    "        cr_node[in_index[0]] = p\n",
    "        return in_index[0]\n",
    "\n",
    "#将 a_cell (维数[3]) 放入new_cr_cell\n",
    "def is_in_cr_cell(a_cell, new_cr_cell):\n",
    "    #for i in range(new_cr_cell.shape[0]):\n",
    "    #    if (new_cr_cell[i] == [0,0,0]).all():\n",
    "    #        new_cr_cell[i] = a_cell\n",
    "    #        return new_cr_cell\n",
    "    #print(\"a_cell= \", a_cell)\n",
    "    #print(\"new_cr_cell= \", new_cr_cell)\n",
    "    in_index = np.where((new_cr_cell == np.array([0,0,0])).all(axis=1))[0]\n",
    "    #print(\"in_index= \", in_index)\n",
    "    if len(in_index) == 0:\n",
    "        #print(\"in_index= \", in_index)\n",
    "        raise Exception(\"数组cr_cell已满\")\n",
    "    new_cr_cell[in_index[0]] = a_cell\n",
    "    return new_cr_cell\n",
    "        \n",
    "\n",
    "# 对单个三角形 a_cell_node (维度 [3, 2]) 求三条边中点 p1, p2, p3 并将其放入 new_cr_node 、 new_cr_cell\n",
    "def a_creat(a_cell_node, new_cr_node, new_cr_cell):\n",
    "    #print(\"a_cell_node= \", a_cell_node)\n",
    "    p1 = (a_cell_node[0] + a_cell_node[1]) / 2\n",
    "    p2 = (a_cell_node[0] + a_cell_node[2]) / 2\n",
    "    p3 = (a_cell_node[1] + a_cell_node[2]) / 2\n",
    "    \n",
    "    p1_i = is_in_cr_node(p1, new_cr_node, val=1)\n",
    "    p2_i = is_in_cr_node(p2, new_cr_node, val=1)\n",
    "    p3_i = is_in_cr_node(p3, new_cr_node, val=1)\n",
    "    \n",
    "    is_in_cr_cell([p1_i, p2_i, p3_i], new_cr_cell)\n",
    "    \n",
    "    return new_cr_node, new_cr_cell\n",
    "    \n",
    "\n",
    "# 由端点的 node 、cell 得到边中点的 cr_node cr_cell\n",
    "def get_cr_node_cell(n, cr_node, cr_cell, node, cell):\n",
    "    old_NN = cr_node.shape[0]\n",
    "    old_NC = cr_cell.shape[0]\n",
    "    \n",
    "    mesh_text = TriangleMesh(node, cell)\n",
    "    mesh_text.uniform_refine(n)\n",
    "    #[NN,2] 剖分点及其编号(下标)\n",
    "    node = mesh_text.entity('node')\n",
    "    #print(\"node= \", node)\n",
    "    #[NC,3] 剖分区间及其端点编号\n",
    "    cell = mesh_text.entity('cell')\n",
    "    NN = mesh_text.number_of_faces()\n",
    "    NC = mesh_text.number_of_cells()\n",
    "    #print(\"old_NN= \", old_NN)\n",
    "    #print(\"NN= \", NN)\n",
    "    print(\"NC= \", NC)\n",
    "    #print(\"cell.shape= \", cell.shape)\n",
    "    \n",
    "    new_cr_node = np.zeros((NN, 2), dtype=np.float64)\n",
    "    new_cr_cell = np.zeros((NC, 3), dtype=np.int64)\n",
    "    \n",
    "    if n == 0:\n",
    "        new_cr_node[0:old_NN, :] = cr_node\n",
    "        new_cr_cell[0:old_NC, :] = cr_cell\n",
    "        return new_cr_node, new_cr_cell\n",
    "    for i in range(NC):\n",
    "        #print(i)\n",
    "        #print(\"cell= \", cell)\n",
    "        new_cr_node, new_cr_cell = a_creat(node[cell[i]], new_cr_node, new_cr_cell)\n",
    "    \n",
    "    print(\"node_cell_e= \", np.max(np.abs(node[cell] - new_cr_node[new_cr_cell])))\n",
    "    \n",
    "    return new_cr_node, new_cr_cell\n",
    "\n",
    "# 用于求解 cr_node, cr_cell\n",
    "old_node = np.array([\n",
    "    (0,0),\n",
    "    (1,0),\n",
    "    (1,1),\n",
    "    (0,1)\n",
    "], dtype=np.float64)\n",
    "old_cell = np.array([\n",
    "    (1,2,0),\n",
    "    (3,0,2)\n",
    "], dtype=np.int64)\n",
    "\n",
    "cr_node = np.array([\n",
    "            (0.5,0),\n",
    "            (1,0.5),\n",
    "            (0.5,0.5),\n",
    "            (0,0.5),\n",
    "            (0.5,1)\n",
    "        ], dtype=np.float64)\n",
    "\n",
    "cr_cell = np.array([\n",
    "        (0,1,2),\n",
    "        (2,3,4)\n",
    "    ], dtype=np.int64)\n",
    "\n",
    "n =6\n",
    "start = time.time()\n",
    "cr_node, cr_cell = get_cr_node_cell(n, cr_node, cr_cell, old_node, old_cell)\n",
    "end = time.time()\n",
    "print(\"运行时间 : \", end-start)\n",
    "#print(\"cr_node= \", cr_node)\n",
    "#print(\"cr_cell= \", cr_cell)"
   ]
  },
  {
   "cell_type": "code",
   "execution_count": 84,
   "id": "346a014a",
   "metadata": {},
   "outputs": [
    {
     "name": "stdout",
     "output_type": "stream",
     "text": [
      "[ True  True]\n",
      "[1 3]\n"
     ]
    }
   ],
   "source": [
    "import numpy as np\n",
    "\n",
    "a = np.array([0,0])\n",
    "b = np.array([[2,1],\n",
    "             [0,0],\n",
    "             [3,4],\n",
    "             [0,0]])\n",
    "\n",
    "c = np.array([0])\n",
    "d = np.array([1,2,0,3,4])\n",
    "\n",
    "print(np.isin(a,b))\n",
    "print(np.where((b == a).all(axis=1))[0])"
   ]
  },
  {
   "cell_type": "code",
   "execution_count": 107,
   "id": "ec27e35d",
   "metadata": {},
   "outputs": [
    {
     "name": "stdout",
     "output_type": "stream",
     "text": [
      "[2]\n"
     ]
    }
   ],
   "source": [
    "import numpy as np\n",
    "\n",
    "a = np.array([1,0,0])\n",
    "b = np.array([[2,3,5],\n",
    "            [1,2,3],\n",
    "            [1,0,0],\n",
    "            [0,0,0],\n",
    "            [0,0,0]])\n",
    "\n",
    "print(np.where((b == a).all(axis=1))[0])"
   ]
  },
  {
   "cell_type": "code",
   "execution_count": null,
   "id": "5653058a",
   "metadata": {},
   "outputs": [],
   "source": []
  }
 ],
 "metadata": {
  "kernelspec": {
   "display_name": "Python 3 (ipykernel)",
   "language": "python",
   "name": "python3"
  },
  "language_info": {
   "codemirror_mode": {
    "name": "ipython",
    "version": 3
   },
   "file_extension": ".py",
   "mimetype": "text/x-python",
   "name": "python",
   "nbconvert_exporter": "python",
   "pygments_lexer": "ipython3",
   "version": "3.9.12"
  }
 },
 "nbformat": 4,
 "nbformat_minor": 5
}
