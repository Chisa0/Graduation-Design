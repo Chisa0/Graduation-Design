{
 "cells": [
  {
   "cell_type": "code",
   "execution_count": 9,
   "id": "5c4b57c3",
   "metadata": {},
   "outputs": [
    {
     "ename": "TypeError",
     "evalue": "NumPy boolean array indexing assignment requires a 0 or 1-dimensional input, input has 2 dimensions",
     "output_type": "error",
     "traceback": [
      "\u001b[0;31m---------------------------------------------------------------------------\u001b[0m",
      "\u001b[0;31mTypeError\u001b[0m                                 Traceback (most recent call last)",
      "Input \u001b[0;32mIn [9]\u001b[0m, in \u001b[0;36m<cell line: 104>\u001b[0;34m()\u001b[0m\n\u001b[1;32m    102\u001b[0m \u001b[38;5;66;03m## 处理边界条件\u001b[39;00m\n\u001b[1;32m    103\u001b[0m bc \u001b[38;5;241m=\u001b[39m DirichletBC(space, pde\u001b[38;5;241m.\u001b[39mdirichlet) \u001b[38;5;66;03m# 创建 Dirichlet 边界条件类的实例，指定边界位移为零向量\u001b[39;00m\n\u001b[0;32m--> 104\u001b[0m A, b \u001b[38;5;241m=\u001b[39m \u001b[43mbc\u001b[49m\u001b[38;5;241;43m.\u001b[39;49m\u001b[43mapply\u001b[49m\u001b[43m(\u001b[49m\u001b[43mA\u001b[49m\u001b[43m,\u001b[49m\u001b[43m \u001b[49m\u001b[43mb\u001b[49m\u001b[43m,\u001b[49m\u001b[43m \u001b[49m\u001b[43muh\u001b[49m\u001b[43m)\u001b[49m \u001b[38;5;66;03m# 将边界条件应用到刚度矩阵和载荷向量上\u001b[39;00m\n\u001b[1;32m    106\u001b[0m \u001b[38;5;66;03m#functionspace.Funcyion.__new__\u001b[39;00m\n\u001b[1;32m    107\u001b[0m \n\u001b[1;32m    108\u001b[0m \u001b[38;5;66;03m## 求解线性方程组\u001b[39;00m\n\u001b[1;32m    109\u001b[0m uh[:] \u001b[38;5;241m=\u001b[39m spsolve(A, b)\n",
      "File \u001b[0;32m~/anaconda3/fealpy/fealpy/boundarycondition/BoundaryCondition.py:34\u001b[0m, in \u001b[0;36mDirichletBC.apply\u001b[0;34m(self, A, F, uh, threshold)\u001b[0m\n\u001b[1;32m     32\u001b[0m \u001b[38;5;28;01mif\u001b[39;00m uh \u001b[38;5;129;01mis\u001b[39;00m \u001b[38;5;28;01mNone\u001b[39;00m:\n\u001b[1;32m     33\u001b[0m     uh \u001b[38;5;241m=\u001b[39m \u001b[38;5;28mself\u001b[39m\u001b[38;5;241m.\u001b[39mspace\u001b[38;5;241m.\u001b[39mfunction(dim\u001b[38;5;241m=\u001b[39mdim)\n\u001b[0;32m---> 34\u001b[0m isDDof \u001b[38;5;241m=\u001b[39m \u001b[43mspace\u001b[49m\u001b[38;5;241;43m.\u001b[39;49m\u001b[43mset_dirichlet_bc\u001b[49m\u001b[43m(\u001b[49m\u001b[43mgD\u001b[49m\u001b[43m,\u001b[49m\u001b[43m \u001b[49m\u001b[43muh\u001b[49m\u001b[43m,\u001b[49m\u001b[43m \u001b[49m\u001b[43mthreshold\u001b[49m\u001b[38;5;241;43m=\u001b[39;49m\u001b[43mthreshold\u001b[49m\u001b[43m)\u001b[49m\n\u001b[1;32m     35\u001b[0m \u001b[38;5;28;01mif\u001b[39;00m dim \u001b[38;5;241m>\u001b[39m \u001b[38;5;241m1\u001b[39m:\n\u001b[1;32m     36\u001b[0m     isDDof \u001b[38;5;241m=\u001b[39m np\u001b[38;5;241m.\u001b[39mtile(isDDof, dim)\n",
      "File \u001b[0;32m~/anaconda3/fealpy/fealpy/functionspace/CrouzeixRaviartFiniteElementSpace.py:388\u001b[0m, in \u001b[0;36mCrouzeixRaviartFiniteElementSpace.set_dirichlet_bc\u001b[0;34m(self, gD, uh, threshold)\u001b[0m\n\u001b[1;32m    386\u001b[0m ipoints \u001b[38;5;241m=\u001b[39m \u001b[38;5;28mself\u001b[39m\u001b[38;5;241m.\u001b[39minterpolation_points()\n\u001b[1;32m    387\u001b[0m isBdDof \u001b[38;5;241m=\u001b[39m \u001b[38;5;28mself\u001b[39m\u001b[38;5;241m.\u001b[39mis_boundary_dof(threshold\u001b[38;5;241m=\u001b[39mthreshold)\n\u001b[0;32m--> 388\u001b[0m uh[isBdDof] \u001b[38;5;241m=\u001b[39m gD(ipoints[isBdDof])\n\u001b[1;32m    389\u001b[0m \u001b[38;5;28;01mreturn\u001b[39;00m isBdDof\n",
      "\u001b[0;31mTypeError\u001b[0m: NumPy boolean array indexing assignment requires a 0 or 1-dimensional input, input has 2 dimensions"
     ]
    }
   ],
   "source": [
    "## 导入模块\n",
    "import numpy as np\n",
    "from scipy.sparse.linalg import spsolve\n",
    "import matplotlib.pyplot as plt\n",
    "\n",
    "from fealpy.decorator import cartesian\n",
    "from fealpy.mesh import MeshFactory\n",
    "from fealpy.functionspace.CrouzeixRaviartFiniteElementSpace import CrouzeixRaviartFiniteElementSpace\n",
    "from fealpy.boundarycondition import DirichletBC\n",
    "from fealpy.tools.show import showmultirate\n",
    "from fealpy.pde.linear_elasticity_model2D import GenLinearElasticitymodel2D\n",
    "\n",
    "class PDE():\n",
    "    def __init__(self, mu=1, lam=1):\n",
    "        self.mu  = mu\n",
    "        self.lam = lam\n",
    "        \n",
    "    def domain(self):\n",
    "        return [0, 1, 0, 1]\n",
    "    \n",
    "    def init_mesh(self, n=1, meshtype='tri'):\n",
    "        node = np.array([\n",
    "            (0,0),\n",
    "            (1,0),\n",
    "            (1,1),\n",
    "            (0,1)], dtype=np.float64)\n",
    "        cell = np.array([(1,2,0), (3,0,2)], dtype=np.int64)\n",
    "        mesh = TriangleMesh(node, cell)\n",
    "        mesh.uniform_refine(n)\n",
    "        return mesh\n",
    "    \n",
    "    @cartesian\n",
    "    def source(self, p):\n",
    "        x   = p[..., 0]\n",
    "        y   = p[..., 1]\n",
    "        mu  = self.mu\n",
    "        lam = self.lam\n",
    "        \n",
    "        sin = np.sin\n",
    "        cos = np.cos\n",
    "        val = np.zeros(p.shape, dtype=np.float64)\n",
    "        \n",
    "        val[..., 0] = -((2 * mu + lam) * y * (y - 1) * (2 * cos(x) - (x - 1) * sin(x))\n",
    "                        + (mu + lam) * (2 * x - 1) * (sin(y) + (y - 1) * cos(y)) \n",
    "                        + 2 * mu * (x -1) * sin(x))\n",
    "        val[..., 1] = -((2 * mu + lam) * x * (x - 1) * (2 * cos(y) - (y - 1) * sin(y))\n",
    "                        + (mu + lam) * (2 * y - 1) * (sin(x) + (x - 1) * cos(x))\n",
    "                        + 2 * mu * (y - 1) * sin(y))\n",
    "\n",
    "        #val[..., 0] = -(2 * (2 * mu + lam) * y * (y - 1) \n",
    "        #                + (mu + lam) * (2 * x - 1) * (2 * y - 1)\n",
    "        #                + 2 * mu * x * (x - 1))\n",
    "        #val[..., 1] = -(2 * (2 * mu + lam) * x * (x - 1)\n",
    "        #                + (mu + lam) * (2 * x - 1) * (2 * y - 1)\n",
    "        #                + 2 * mu * y * (y - 1))\n",
    "        return val\n",
    "    \n",
    "    @cartesian\n",
    "    def dirichlet(self, p):\n",
    "        var = np.zeros_like(p)\n",
    "        return self.solution(p)\n",
    "    @cartesian\n",
    "    def solution(self, p):\n",
    "        x = p[..., 0]\n",
    "        y = p[..., 1]\n",
    "        \n",
    "        val = np.zeros(p.shape, dtype=np.float64)\n",
    "        \n",
    "        val[..., 0] = y * (x - 1) * (y - 1) * np.sin(x)\n",
    "        val[..., 1] = x * (x - 1) * (y - 1) * np.sin(y)\n",
    "        \n",
    "        #val[..., 0] = x * (x - 1) * y * (y - 1)\n",
    "        #val[..., 1] = x * (x - 1) * y * (y - 1)\n",
    "        return val\n",
    "    \n",
    "\n",
    "## 生成网格\n",
    "box = [-1, 1, -1, 1] # 定义方形区域的边界\n",
    "#mf = MeshFactory() # 创建网格工厂类的实例\n",
    "mesh = MeshFactory.boxmesh2d(box, nx=1, ny=1, meshtype='tri') # 生成方形区域的三角形网格，每条边分为 10 段\n",
    "NN = mesh.number_of_nodes() # 获取节点个数\n",
    "\n",
    "pde = PDE()\n",
    "#pde = GenLinearElasticitymodel2D()\n",
    "\n",
    "## 定义有限元空间\n",
    "q = 1 # 设置有限元的次数为 1\n",
    "space = CrouzeixRaviartFiniteElementSpace(mesh, q=q) # 创建 CR 元空间类的实例\n",
    "gdof = space.number_of_global_dofs() # 获取全局自由度个数\n",
    "\n",
    "## 定义拉梅常数和载荷函数\n",
    "lambda_ = 1 # 设置拉梅常数 lambda\n",
    "mu = 1 # 设置拉梅常数 mu\n",
    "\n",
    "uh = space.function()\n",
    "\n",
    "## 组装刚度矩阵和载荷向量\n",
    "#A = space.stiff_matrix(c=mu) + space.div_matrix(c=lambda_+mu) # 调用有限元空间类的方法来组装刚度矩阵 A\n",
    "A = space.linear_elasticity_matrix(lambda_, mu)\n",
    "b = space.source_vector(pde.source, dim=2) # 调用有限元空间类的方法来组装载荷向量 b\n",
    "\n",
    "## 处理边界条件\n",
    "bc = DirichletBC(space, pde.dirichlet) # 创建 Dirichlet 边界条件类的实例，指定边界位移为零向量\n",
    "A, b = bc.apply(A, b, uh) # 将边界条件应用到刚度矩阵和载荷向量上\n",
    "\n",
    "#functionspace.Funcyion.__new__\n",
    "\n",
    "## 求解线性方程组\n",
    "uh[:] = spsolve(A, b) # 使用 scipy 中的 spsolve 函数求解线性方程组"
   ]
  },
  {
   "cell_type": "code",
   "execution_count": null,
   "id": "f7a55fda",
   "metadata": {},
   "outputs": [],
   "source": [
    "L2Error = space.integralalg.error(pde.solution, uh)"
   ]
  },
  {
   "cell_type": "code",
   "execution_count": 42,
   "id": "ad90927a",
   "metadata": {},
   "outputs": [
    {
     "data": {
      "image/png": "[encoded data removed]",
      "text/plain": [
       "<Figure size 432x288 with 1 Axes>"
      ]
     },
     "metadata": {
      "needs_background": "light"
     },
     "output_type": "display_data"
    }
   ],
   "source": [
    "## 画图\n",
    "fig = plt.figure() # 新建一个图形窗口\n",
    "axes = fig.gca() # 获取当前的坐标轴\n",
    "mesh.add_plot(axes) # 在坐标轴上画出网格\n",
    "mesh.find_node(axes, showindex=True) # 在坐标轴上标记节点编号\n",
    "mesh.find_cell(axes, showindex=True) # 在坐标轴上标记单元编号\n",
    "plt.show() # 显示图形"
   ]
  },
  {
   "cell_type": "code",
   "execution_count": 19,
   "id": "351b50f9",
   "metadata": {},
   "outputs": [
    {
     "name": "stdout",
     "output_type": "stream",
     "text": [
      "gdof=  5\n",
      "(121, 121)\n",
      "[[-4.58161453 -7.44483648]\n",
      " [-7.44483648 -4.58161453]\n",
      " [-6.1089371  -6.1089371 ]\n",
      " [ 2.3859727   1.08936095]\n",
      " [ 1.08936095  2.3859727 ]]\n",
      "run serial_construct_matrix with time: 0.005576178999035619\n",
      "stiff=  (121, 121)\n"
     ]
    },
    {
     "ename": "TypeError",
     "evalue": "div_matrix() missing 1 required positional argument: 'pspace'",
     "output_type": "error",
     "traceback": [
      "\u001b[0;31m---------------------------------------------------------------------------\u001b[0m",
      "\u001b[0;31mTypeError\u001b[0m                                 Traceback (most recent call last)",
      "Input \u001b[0;32mIn [19]\u001b[0m, in \u001b[0;36m<cell line: 5>\u001b[0;34m()\u001b[0m\n\u001b[1;32m      3\u001b[0m \u001b[38;5;28mprint\u001b[39m(b)\n\u001b[1;32m      4\u001b[0m \u001b[38;5;28mprint\u001b[39m(\u001b[38;5;124m\"\u001b[39m\u001b[38;5;124mstiff= \u001b[39m\u001b[38;5;124m\"\u001b[39m, space\u001b[38;5;241m.\u001b[39mstiff_matrix()\u001b[38;5;241m.\u001b[39mtoarray()\u001b[38;5;241m.\u001b[39mshape)\n\u001b[0;32m----> 5\u001b[0m \u001b[38;5;28mprint\u001b[39m(\u001b[38;5;124m\"\u001b[39m\u001b[38;5;124mstiff= \u001b[39m\u001b[38;5;124m\"\u001b[39m, \u001b[43mspace\u001b[49m\u001b[38;5;241;43m.\u001b[39;49m\u001b[43mdiv_matrix\u001b[49m\u001b[43m(\u001b[49m\u001b[43m)\u001b[49m\u001b[38;5;241m.\u001b[39mtoarray()\u001b[38;5;241m.\u001b[39mshape)\n",
      "\u001b[0;31mTypeError\u001b[0m: div_matrix() missing 1 required positional argument: 'pspace'"
     ]
    }
   ],
   "source": [
    "print(\"gdof= \", gdof)\n",
    "print(A.toarray().shape)\n",
    "print(\"b= \", b.shape)\n",
    "print(\"stiff= \", space.stiff_matrix().toarray().shape)\n",
    "print(\"stiff= \", space.div_matrix().toarray().shape)"
   ]
  },
  {
   "cell_type": "code",
   "execution_count": 26,
   "id": "fb2dda46",
   "metadata": {},
   "outputs": [
    {
     "ename": "TypeError",
     "evalue": "array() got an unexpected keyword argument 'dtype'",
     "output_type": "error",
     "traceback": [
      "\u001b[0;31m---------------------------------------------------------------------------\u001b[0m",
      "\u001b[0;31mTypeError\u001b[0m                                 Traceback (most recent call last)",
      "Input \u001b[0;32mIn [26]\u001b[0m, in \u001b[0;36m<cell line: 1>\u001b[0;34m()\u001b[0m\n\u001b[0;32m----> 1\u001b[0m \u001b[43mspace\u001b[49m\u001b[38;5;241;43m.\u001b[39;49m\u001b[43mfunction\u001b[49m\u001b[43m(\u001b[49m\u001b[43m)\u001b[49m\n",
      "File \u001b[0;32m~/anaconda3/fealpy/fealpy/functionspace/CrouzeixRaviartFiniteElementSpace.py:369\u001b[0m, in \u001b[0;36mCrouzeixRaviartFiniteElementSpace.function\u001b[0;34m(self, dim, array)\u001b[0m\n\u001b[1;32m    368\u001b[0m \u001b[38;5;28;01mdef\u001b[39;00m \u001b[38;5;21mfunction\u001b[39m(\u001b[38;5;28mself\u001b[39m, dim\u001b[38;5;241m=\u001b[39m\u001b[38;5;28;01mNone\u001b[39;00m, array\u001b[38;5;241m=\u001b[39m\u001b[38;5;28;01mNone\u001b[39;00m):\n\u001b[0;32m--> 369\u001b[0m     f \u001b[38;5;241m=\u001b[39m \u001b[43mFunction\u001b[49m\u001b[43m(\u001b[49m\u001b[38;5;28;43mself\u001b[39;49m\u001b[43m,\u001b[49m\u001b[43m \u001b[49m\u001b[43mdim\u001b[49m\u001b[38;5;241;43m=\u001b[39;49m\u001b[43mdim\u001b[49m\u001b[43m,\u001b[49m\u001b[43m \u001b[49m\u001b[43marray\u001b[49m\u001b[38;5;241;43m=\u001b[39;49m\u001b[43marray\u001b[49m\u001b[43m,\u001b[49m\u001b[43m \u001b[49m\u001b[43mcoordtype\u001b[49m\u001b[38;5;241;43m=\u001b[39;49m\u001b[38;5;124;43m'\u001b[39;49m\u001b[38;5;124;43mbarycentric\u001b[39;49m\u001b[38;5;124;43m'\u001b[39;49m\u001b[43m)\u001b[49m\n\u001b[1;32m    370\u001b[0m     \u001b[38;5;28;01mreturn\u001b[39;00m f\n",
      "File \u001b[0;32m~/anaconda3/fealpy/fealpy/functionspace/Function.py:21\u001b[0m, in \u001b[0;36mFunction.__new__\u001b[0;34m(cls, space, dim, array, coordtype, dtype)\u001b[0m\n\u001b[1;32m     18\u001b[0m \u001b[38;5;28;01mdef\u001b[39;00m \u001b[38;5;21m__new__\u001b[39m(\u001b[38;5;28mcls\u001b[39m, space, dim\u001b[38;5;241m=\u001b[39m\u001b[38;5;28;01mNone\u001b[39;00m, array\u001b[38;5;241m=\u001b[39m\u001b[38;5;28;01mNone\u001b[39;00m, coordtype\u001b[38;5;241m=\u001b[39m\u001b[38;5;28;01mNone\u001b[39;00m,\n\u001b[1;32m     19\u001b[0m         dtype\u001b[38;5;241m=\u001b[39mnp\u001b[38;5;241m.\u001b[39mfloat64):\n\u001b[1;32m     20\u001b[0m     \u001b[38;5;28;01mif\u001b[39;00m array \u001b[38;5;129;01mis\u001b[39;00m \u001b[38;5;28;01mNone\u001b[39;00m:\n\u001b[0;32m---> 21\u001b[0m         \u001b[38;5;28mself\u001b[39m \u001b[38;5;241m=\u001b[39m \u001b[43mspace\u001b[49m\u001b[38;5;241;43m.\u001b[39;49m\u001b[43marray\u001b[49m\u001b[43m(\u001b[49m\u001b[43mdim\u001b[49m\u001b[38;5;241;43m=\u001b[39;49m\u001b[43mdim\u001b[49m\u001b[43m,\u001b[49m\u001b[43m \u001b[49m\u001b[43mdtype\u001b[49m\u001b[38;5;241;43m=\u001b[39;49m\u001b[43mdtype\u001b[49m\u001b[43m)\u001b[49m\u001b[38;5;241m.\u001b[39mview(\u001b[38;5;28mcls\u001b[39m)\n\u001b[1;32m     22\u001b[0m     \u001b[38;5;28;01melse\u001b[39;00m:\n\u001b[1;32m     23\u001b[0m         \u001b[38;5;28mself\u001b[39m \u001b[38;5;241m=\u001b[39m array\u001b[38;5;241m.\u001b[39mview(\u001b[38;5;28mcls\u001b[39m)\n",
      "\u001b[0;31mTypeError\u001b[0m: array() got an unexpected keyword argument 'dtype'"
     ]
    }
   ],
   "source": [
    "space.function()"
   ]
  },
  {
   "cell_type": "code",
   "execution_count": 16,
   "id": "42b29c1c",
   "metadata": {},
   "outputs": [
    {
     "name": "stdout",
     "output_type": "stream",
     "text": [
      "run serial_construct_matrix with time: 0.003490397000859957\n"
     ]
    }
   ],
   "source": [
    "from fealpy.pde.poisson_2d import CosCosData # 导入二维 Poisson 模型实例\n",
    "pde = CosCosData() # 创建 pde 模型对象\n",
    "\n",
    "from fealpy.mesh import MeshFactory as MF # 导入网格工厂模块\n",
    "domain = [0, 1, 0, 1]\n",
    "mesh = MF.boxmesh2d(domain, nx=10, ny=10, meshtype='tri')\n",
    "\n",
    "# 导入 Lagrange 有限元空间\n",
    "from fealpy.functionspace import LagrangeFiniteElementSpace \n",
    "space = LagrangeFiniteElementSpace(mesh, p=1)  # 线性元空间\n",
    "\n",
    "# 导入 Dirichlet 边界处理\n",
    "from fealpy.boundarycondition import DirichletBC \n",
    "bc = DirichletBC(space, pde.dirichlet) # 创建 Dirichlet 边界条件处理对象\n",
    "\n",
    "uh = space.function() # 创建有限元函数对象\n",
    "A = space.stiff_matrix() # 组装刚度矩阵对象\n",
    "F = space.source_vector(pde.source) # 组装右端向量对象\n",
    "A, F = bc.apply(A, F, uh) # 应用 Dirichlet 边界条件\n",
    "\n",
    "# 导入稀疏线性代数系统求解函数\n",
    "from scipy.sparse.linalg import spsolve\n",
    "uh[:] = spsolve(A, F)\n",
    "\n",
    "L2Error = space.integralalg.error(pde.solution, uh)\n",
    "H1Error = space.integralalg.error(pde.gradient, uh.grad_value)"
   ]
  },
  {
   "cell_type": "code",
   "execution_count": 17,
   "id": "ea769a59",
   "metadata": {},
   "outputs": [
    {
     "name": "stdout",
     "output_type": "stream",
     "text": [
      "0.012544252070103266\n"
     ]
    }
   ],
   "source": [
    "print(L2Error)"
   ]
  },
  {
   "cell_type": "code",
   "execution_count": null,
   "id": "cad4db50",
   "metadata": {},
   "outputs": [],
   "source": []
  }
 ],
 "metadata": {
  "kernelspec": {
   "display_name": "Python 3 (ipykernel)",
   "language": "python",
   "name": "python3"
  },
  "language_info": {
   "codemirror_mode": {
    "name": "ipython",
    "version": 3
   },
   "file_extension": ".py",
   "mimetype": "text/x-python",
   "name": "python",
   "nbconvert_exporter": "python",
   "pygments_lexer": "ipython3",
   "version": "3.9.12"
  }
 },
 "nbformat": 4,
 "nbformat_minor": 5
}
