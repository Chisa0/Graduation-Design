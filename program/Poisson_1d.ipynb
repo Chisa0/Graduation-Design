{
 "cells": [
  {
   "cell_type": "markdown",
   "id": "271cf075",
   "metadata": {},
   "source": [
    "## Poisson方程\n",
    "\n",
    "$$\n",
    "\\begin{cases}\n",
    "Lu = -u''(x) = f(x) \\quad x \\in G, \\\\\n",
    "u(0)=u(\\pi)=0\n",
    "\\end{cases}\n",
    "$$\n",
    "\n",
    "其中f(x) = sin(x), G = [0, $\\pi$], 真解为u(x) = sin(x)。"
   ]
  },
  {
   "cell_type": "code",
   "execution_count": 1,
   "id": "bdf85377",
   "metadata": {},
   "outputs": [
    {
     "name": "stdout",
     "output_type": "stream",
     "text": [
      "h=  [1.57079633 0.78539816 0.39269908 0.19634954 0.09817477]\n",
      "e=  [1.63818602e-07 8.29243097e-10 4.48403536e-12 2.11852959e-14\n",
      " 1.33128706e-14]\n"
     ]
    }
   ],
   "source": [
    "import numpy as np\n",
    "from scipy.sparse.linalg import spsolve\n",
    "from scipy.sparse import csr_matrix\n",
    "from fealpy.mesh import IntervalMesh\n",
    "from fealpy.decorator import cartesian\n",
    "from fealpy.quadrature import IntervalQuadrature\n",
    "import matplotlib.pyplot as plt\n",
    "\n",
    "class pde():\n",
    "    def __init__(self):\n",
    "        pass\n",
    "    \n",
    "    def domain(self):\n",
    "        return [0, np.pi]\n",
    "    \n",
    "    @cartesian\n",
    "    def solution(self,x):\n",
    "        return np.sin(x)\n",
    "    \n",
    "    @cartesian\n",
    "    def gradient(self,p):\n",
    "        x = p[...,0] # 返回p中最后一个指标为0的数组\n",
    "        return np.cos(x)\n",
    "    \n",
    "    @cartesian\n",
    "    def source(self,p):\n",
    "        x = p[...,0]\n",
    "        return np.sin(x)\n",
    "\n",
    "pde = pde()\n",
    "    \n",
    "#剖分次数\n",
    "n = [1,2,3,4,5]\n",
    "e = np.zeros(len(n), dtype=np.float64)\n",
    "h = np.zeros(len(n), dtype=np.float64)\n",
    "for i in range(len(n)):\n",
    "\n",
    "    node = np.array([\n",
    "        [0.0],\n",
    "        [np.pi]\n",
    "    ])\n",
    "    cell = np.array([\n",
    "        [0,1]\n",
    "    ])\n",
    "    mesh = IntervalMesh(node, cell)\n",
    "    mesh.uniform_refine(n = n[i])\n",
    "\n",
    "    #剖分点的x值\n",
    "    node = mesh.entity('node')\n",
    "    #剖分区间两端点的编号(即node中的下标)\n",
    "    cell = mesh.entity('cell')\n",
    "\n",
    "    NC = mesh.number_of_cells()\n",
    "    NN = mesh.number_of_nodes()\n",
    "    cm = mesh.entity_measure('cell') #(NC,), 每个单元的长度\n",
    "\n",
    "    #(NC,2,1), 为每个区间上N_0(\\varepilon),N_1(\\varepsilon)对x的导数\n",
    "    glambda = mesh.grad_lambda() \n",
    "    #print(\"glambda=\", glambda)\n",
    "    #print(\"cm=\", cm)\n",
    "\n",
    "    S = np.einsum('cim, cjm, c->cij', glambda, glambda, cm) #[NC,2,2]\n",
    "    #print(\"S=\", S)\n",
    "\n",
    "    #cell[:,:,None] 增加一列\n",
    "    #broadcast_to 将cell缺少的列复制几遍\n",
    "    I = np.broadcast_to(cell[:, :, None], shape=S.shape) #[NC,2]-->[NC,2,1]-->[NC,2,2]\n",
    "    J = np.broadcast_to(cell[:, None, :], shape=S.shape) #[NC,2]-->[NC,1,2]-->[NC,2,2]\n",
    "\n",
    "    #S[c,i,j]将会放在 S[I[c,i,j], J[c,i,j]] 上, 并转换为稀疏矩阵\n",
    "    S = csr_matrix((S.flat, (I.flat, J.flat)), shape=(NN,NN))\n",
    "\n",
    "    #每个区间上的积分点数\n",
    "    NQ = 4\n",
    "    qf = IntervalQuadrature(NQ)\n",
    "\n",
    "    #bcs [NQ,2], 每个积分区间上的\\lambda_0,\\lambda_1(和为1); ws [NQ,], 积分区间上各点的权值\n",
    "    bcs,ws = qf.get_quadrature_points_and_weights() \n",
    "    phi = bcs\n",
    "\n",
    "    A = S\n",
    "\n",
    "    # ps [NQ,NC,1]，所有积分点的x值\n",
    "    #node[cell].shape == [NC,2,1]，每个区间的端点值\n",
    "    ps = np.einsum('qi, cim->qcm', bcs, node[cell]) \n",
    "\n",
    "    #[NQ,NC], 所有积分点的右端函数值\n",
    "    val = pde.source(ps) \n",
    "    #[NC,2], 每个区间上\\phi_{i-1}、\\phi_i 与 f 的内积\n",
    "    bb = np.einsum('q,qc,qi,c->ci', ws, val, bcs, cm) \n",
    "\n",
    "    F = np.zeros(NN)\n",
    "    #将 bb 按各区间两端点编号求和\n",
    "    np.add.at(F,cell,bb)\n",
    "\n",
    "    isBdNode = mesh.ds.boundary_node_flag() #[NN,]\n",
    "\n",
    "    isInterNode = ~isBdNode\n",
    "\n",
    "    uh = np.zeros(NN, dtype=np.float64)\n",
    "    #有边界条件知uh[0]=uh[n]=0\n",
    "    uh[isInterNode] = spsolve(A[:, isInterNode][isInterNode], F[isInterNode]) \n",
    "\n",
    "    #print(\"node=\", node.shape)\n",
    "    #print(\"cell=\", cell)\n",
    "    #print(\"isInterNode=\", isInterNode)\n",
    "\n",
    "    uI = pde.solution(node)\n",
    "    ns = uI.shape\n",
    "    uI = uI.reshape(ns[0])\n",
    "    h[i] = cm[0]\n",
    "    e_tmp = uh-uI\n",
    "    e[i] = np.sqrt(e_tmp@e_tmp) \n",
    "print(\"h= \", h)\n",
    "print(\"e= \", e)"
   ]
  },
  {
   "cell_type": "code",
   "execution_count": 4,
   "id": "a5020045",
   "metadata": {},
   "outputs": [
    {
     "name": "stdout",
     "output_type": "stream",
     "text": [
      " \n",
      "6.236 x - 19.39\n"
     ]
    },
    {
     "data": {
      "text/plain": [
       "<matplotlib.legend.Legend at 0x7ff54780fe80>"
      ]
     },
     "execution_count": 4,
     "metadata": {},
     "output_type": "execute_result"
    },
    {
     "data": {
      "image/png": "[encoded data removed]",
      "text/plain": [
       "<Figure size 432x288 with 1 Axes>"
      ]
     },
     "metadata": {
      "needs_background": "light"
     },
     "output_type": "display_data"
    }
   ],
   "source": [
    "f = np.polyfit(np.log(h), np.log(e), 1)\n",
    "p = np.poly1d(f)\n",
    "print(p)\n",
    "\n",
    "plt.plot(np.log(h), np.log(e), label=\"log(e)\")\n",
    "plt.xlabel(\"log(h)\")\n",
    "plt.legend()"
   ]
  },
  {
   "cell_type": "code",
   "execution_count": 5,
   "id": "b6ec5d9d",
   "metadata": {},
   "outputs": [
    {
     "data": {
      "text/plain": [
       "<matplotlib.legend.Legend at 0x7ff547732a60>"
      ]
     },
     "execution_count": 5,
     "metadata": {},
     "output_type": "execute_result"
    },
    {
     "name": "stderr",
     "output_type": "stream",
     "text": [
      "/home/chisa/anaconda3/lib/python3.9/site-packages/IPython/core/pylabtools.py:151: UserWarning: Glyph 30495 (\\N{CJK UNIFIED IDEOGRAPH-771F}) missing from current font.\n",
      "  fig.canvas.print_figure(bytes_io, **kw)\n",
      "/home/chisa/anaconda3/lib/python3.9/site-packages/IPython/core/pylabtools.py:151: UserWarning: Glyph 35299 (\\N{CJK UNIFIED IDEOGRAPH-89E3}) missing from current font.\n",
      "  fig.canvas.print_figure(bytes_io, **kw)\n",
      "/home/chisa/anaconda3/lib/python3.9/site-packages/IPython/core/pylabtools.py:151: UserWarning: Glyph 25968 (\\N{CJK UNIFIED IDEOGRAPH-6570}) missing from current font.\n",
      "  fig.canvas.print_figure(bytes_io, **kw)\n",
      "/home/chisa/anaconda3/lib/python3.9/site-packages/IPython/core/pylabtools.py:151: UserWarning: Glyph 20540 (\\N{CJK UNIFIED IDEOGRAPH-503C}) missing from current font.\n",
      "  fig.canvas.print_figure(bytes_io, **kw)\n"
     ]
    },
    {
     "data": {
      "image/png": "[encoded data removed]",
      "text/plain": [
       "<Figure size 432x288 with 1 Axes>"
      ]
     },
     "metadata": {
      "needs_background": "light"
     },
     "output_type": "display_data"
    }
   ],
   "source": [
    "def my_sort(A):\n",
    "    n = A.shape[1]\n",
    "    for i in range(n-1):\n",
    "        for j in range(i+1,n):\n",
    "            if(A[0][i] > A[0][j]):\n",
    "                for k in range(3):\n",
    "                    tmp = A[k][i]\n",
    "                    A[k][i] = A[k][j]\n",
    "                    A[k][j] = tmp\n",
    "\n",
    "A = np.zeros((3,NN), dtype=np.float64)\n",
    "A[0] = node.reshape(NN)\n",
    "A[1] = uI\n",
    "A[2] = uh\n",
    "\n",
    "my_sort(A)\n",
    "\n",
    "plt.plot(A[0],A[1],linestyle='--',color='r',label='真解uI')\n",
    "plt.plot(A[0],A[2],linestyle=':',color='b',label='数值解uh')\n",
    "plt.legend()"
   ]
  },
  {
   "cell_type": "code",
   "execution_count": 154,
   "id": "6e15ad4b",
   "metadata": {},
   "outputs": [
    {
     "name": "stdout",
     "output_type": "stream",
     "text": [
      "a=  [[1 2]\n",
      " [3 4]]\n",
      "a.shape=  (2, 2)\n",
      "a[:,None]= [[[1]\n",
      "  [2]]\n",
      "\n",
      " [[3]\n",
      "  [4]]]\n",
      "a[:,None].shape= (2, 2, 1)\n",
      "\n",
      "a[Nome,:]= [[[1 2]]\n",
      "\n",
      " [[3 4]]]\n",
      "a[Nome,:].shape= (2, 1, 2)\n",
      "b= [[[1 1]\n",
      "  [2 2]]\n",
      "\n",
      " [[3 3]\n",
      "  [4 4]]]\n",
      "c= [[[1 2]\n",
      "  [1 2]]\n",
      "\n",
      " [[3 4]\n",
      "  [3 4]]]\n"
     ]
    }
   ],
   "source": [
    "import numpy as np\n",
    "\n",
    "a = np.array([[1,2], [3,4]])\n",
    "print(\"a= \", a)\n",
    "print(\"a.shape= \", a.shape)\n",
    "print(\"a[:,None]=\", a[:,:,None])\n",
    "print(\"a[:,None].shape=\", a[:,:,None].shape)\n",
    "print(\"\")\n",
    "print (\"a[Nome,:]=\", a[:,None,:])\n",
    "print (\"a[Nome,:].shape=\", a[:,None,:].shape)\n",
    " \n",
    "b = np.broadcast_to(a[:,:,None], shape=[2,2,2])\n",
    "print(\"b=\", b)\n",
    "\n",
    "c = np.broadcast_to(a[:,None,:], shape=[2,2,2])\n",
    "print(\"c=\", c)"
   ]
  },
  {
   "cell_type": "code",
   "execution_count": null,
   "id": "dbe522e9",
   "metadata": {},
   "outputs": [],
   "source": []
  },
  {
   "cell_type": "code",
   "execution_count": null,
   "id": "c803fe3f",
   "metadata": {},
   "outputs": [],
   "source": []
  }
 ],
 "metadata": {
  "kernelspec": {
   "display_name": "Python 3 (ipykernel)",
   "language": "python",
   "name": "python3"
  },
  "language_info": {
   "codemirror_mode": {
    "name": "ipython",
    "version": 3
   },
   "file_extension": ".py",
   "mimetype": "text/x-python",
   "name": "python",
   "nbconvert_exporter": "python",
   "pygments_lexer": "ipython3",
   "version": "3.9.12"
  }
 },
 "nbformat": 4,
 "nbformat_minor": 5
}
