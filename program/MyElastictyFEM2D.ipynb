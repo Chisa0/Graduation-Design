{
 "cells": [
  {
   "cell_type": "code",
   "execution_count": 261,
   "id": "64bc2842",
   "metadata": {},
   "outputs": [],
   "source": [
    "import numpy as np\n",
    "from scipy.sparse.linalg import spsolve\n",
    "from scipy.sparse import csr_matrix\n",
    "import matplotlib.pyplot as plt\n",
    "\n",
    "from fealpy.decorator import cartesian\n",
    "from fealpy.mesh import TriangleMesh\n",
    "from fealpy.functionspace import LagrangeFiniteElementSpace\n",
    "from fealpy.boundarycondition import DirichletBC\n",
    "\n",
    "class pde():\n",
    "    def __init__(self, mu=1, lam=1):\n",
    "        self.mu  = mu\n",
    "        self.lam = lam\n",
    "        \n",
    "    def domain(self):\n",
    "        return [0, 1, 0, 1]\n",
    "    \n",
    "    def init_mesh(self, n=1, meshtype='tri'):\n",
    "        node = np.array([\n",
    "            (0,0),\n",
    "            (1,0),\n",
    "            (1,1),\n",
    "            (0,1)], dtype=np.float64)\n",
    "        cell = np.array([(1,2,0), (3,0,2)], dtype=np.int64)\n",
    "        mesh = TriangleMesh(node, cell)\n",
    "        mesh.uniform_refine(n)\n",
    "        return mesh\n",
    "    \n",
    "    @cartesian\n",
    "    def source(self, p):\n",
    "        x   = p[..., 0]\n",
    "        y   = p[..., 1]\n",
    "        mu  = self.mu\n",
    "        lam = self.lam\n",
    "        \n",
    "        sin = np.sin\n",
    "        cos = np.cos\n",
    "        val = np.zeros(p.shape, dtype=np.float64)\n",
    "        \n",
    "        val[..., 0] = -((2 * mu + lam) * y * (y - 1) * (2 * cos(x) - (x - 1) * sin(x))\n",
    "                        + (mu + lam) * (2 * x - 1) * (sin(y) + (y - 1) * cos(y)) \n",
    "                        + 2 * mu * (x -1) * sin(x))\n",
    "        val[..., 1] = -((2 * mu + lam) * x * (x - 1) * (2 * cos(y) - (y - 1) * sin(y))\n",
    "                        + (mu + lam) * (2 * y - 1) * (sin(x) + (x - 1) * cos(x))\n",
    "                        + 2 * mu * (y - 1) * sin(y))\n",
    "\n",
    "        return val\n",
    "    \n",
    "    def dirichlet(self, p):\n",
    "        var = np.zeros_like(p)\n",
    "        return var\n",
    "    \n",
    "    def solution(self, p):\n",
    "        x = p[..., 0]\n",
    "        y = p[..., 1]\n",
    "        \n",
    "        val = np.zeros(p.shape, dtype=np.float64)\n",
    "        \n",
    "        val[..., 0] = y * (x - 1) * (y - 1) * np.sin(x)\n",
    "        val[..., 1] = x * (x - 1) * (y - 1) * np.sin(y)\n",
    "        return val\n",
    "        \n",
    "    def is_dirichlet_boundary(self, p):\n",
    "        x = p[..., 0]\n",
    "        y = p[..., 1]\n",
    "        flag = np.max(np.abs(y)) < 1e-13 \n",
    "        return flag\n",
    "    \n",
    "def error(u, uh):\n",
    "    e = u - uh\n",
    "    emax = np.max(np.abs(e))\n",
    "    return emax\n",
    "    \n",
    "pde = pde(0.5, 0.5)\n",
    "mesh = pde.init_mesh(0)\n",
    "NN = mesh.number_of_nodes()\n",
    "NC = mesh.number_of_cells()\n",
    "#[NC,2] 剖分点及其编号(下标)\n",
    "node = mesh.entity('node') \n",
    "#[NC,3] 剖分区间及其端点编号\n",
    "cell = mesh.entity('cell') \n",
    "#[NC] 每个单元的面积\n",
    "cm = mesh.entity_measure()\n",
    "\n",
    "#[NC,3,2] 每个单元上基函数(三个)对x、y的偏导数\n",
    "glam = mesh.grad_lambda()\n",
    "GLAM = np.broadcast_to(glam[:, :, None, :], shape=[NC,3,2,2])\n",
    "GLAM_T = GLAM.swapaxes(2,3)\n",
    "GLAM = GLAM + GLAM_T\n",
    "\n",
    "#[NC,3,3] 单元刚度矩阵第一部分\n",
    "S = np.einsum(\"cnij, cmij, c->cnm\", GLAM, GLAM, cm)\n",
    "glam_sum = np.einsum(\"cni->cn\", glam)\n",
    "#[NC,3,3] 单元刚度矩阵第二部分\n",
    "M = np.einsum(\"cn, cm->cnm\", glam_sum, glam_sum)\n",
    "\n",
    "I = np.broadcast_to(cell[:, :, None], shape=S.shape)\n",
    "J = np.broadcast_to(cell[:, None, :], shape=S.shape)\n",
    "\n",
    "S = csr_matrix((S.flat, (I.flat, J.flat)), shape=(NN,NN))\n",
    "M = csr_matrix((M.flat, (I.flat, J.flat)), shape=(NN,NN))\n",
    "A = 2 * pde.mu * S + pde.lam * M"
   ]
  },
  {
   "cell_type": "code",
   "execution_count": 262,
   "id": "20ed55c6",
   "metadata": {},
   "outputs": [],
   "source": [
    "def is_Bd_Node_flag():\n",
    "    n = mesh.number_of_nodes()\n",
    "    isBdNode = np.zeros(n, dtype=bool)\n",
    "    for i in range(n):\n",
    "        if (pde.is_dirichlet_boundary(mesh.node[i])):\n",
    "            isBdNode[i] = True\n",
    "    return isBdNode"
   ]
  },
  {
   "cell_type": "code",
   "execution_count": 263,
   "id": "7efc2d45",
   "metadata": {},
   "outputs": [],
   "source": [
    "from fealpy.quadrature import TriangleQuadrature\n",
    "\n",
    "NQ = 2\n",
    "Q = NQ * (NQ + 1) / 2\n",
    "qf = TriangleQuadrature(NQ)\n",
    "\n",
    "#bcs [Q,3]; WS[Q,]\n",
    "bcs,ws = qf.get_quadrature_points_and_weights()\n",
    "#phi [Q,3,2]\n",
    "phi = np.broadcast_to(bcs[:, :, None], shape=[int(Q),3,2])\n",
    "\n",
    "#ps [Q,NC,2]\n",
    "ps = np.einsum('qi, cim->qcm', bcs, node[cell])\n",
    "#val [Q,NC,2]\n",
    "val = pde.source(ps)\n",
    "#bb [NC,3]\n",
    "bb = np.einsum('q, qcj, qij, c->ci', ws, val, phi, cm)\n",
    "\n",
    "F = np.zeros(NN)\n",
    "np.add.at(F, cell, bb)\n",
    "\n",
    "isBdNode = mesh.ds.boundary_node_flag()\n",
    "isInterNode = ~isBdNode\n",
    "\n",
    "uh = np.zeros((NN), dtype=np.float64)\n",
    "uh[isInterNode] = spsolve(A[:, isInterNode][isInterNode], F[isInterNode])"
   ]
  },
  {
   "cell_type": "code",
   "execution_count": 264,
   "id": "a12be47e",
   "metadata": {},
   "outputs": [
    {
     "name": "stdout",
     "output_type": "stream",
     "text": [
      "val=  [[[0.86649509 0.99667997]\n",
      "  [0.99667997 0.86649509]]\n",
      "\n",
      " [[0.37515365 0.36714926]\n",
      "  [0.63990679 0.4386756 ]]\n",
      "\n",
      " [[0.4386756  0.63990679]\n",
      "  [0.36714926 0.37515365]]]\n",
      "cm=  [0.5 0.5]\n",
      "bb=  [[0.2575996  0.16419359 0.19221688]\n",
      " [0.2575996  0.19221688 0.16419359]]\n",
      "F=  [0.38443375 0.2575996  0.32838717 0.2575996 ]\n",
      "isBdNode=  [ True  True  True  True]\n"
     ]
    }
   ],
   "source": [
    "print(\"val= \", val)\n",
    "print(\"cm= \", cm)\n",
    "print(\"bb= \", bb)\n",
    "print(\"F= \", F)\n",
    "print(\"isBdNode= \", isBdNode)"
   ]
  },
  {
   "cell_type": "code",
   "execution_count": 265,
   "id": "bc3107d9",
   "metadata": {},
   "outputs": [
    {
     "name": "stdout",
     "output_type": "stream",
     "text": [
      "u=  [[ 0.  0.]\n",
      " [-0. -0.]\n",
      " [ 0.  0.]\n",
      " [-0. -0.]]\n",
      "uh=  [[0. 0.]\n",
      " [0. 0.]\n",
      " [0. 0.]\n",
      " [0. 0.]]\n",
      "e=  0.0\n"
     ]
    }
   ],
   "source": [
    "u = pde.solution(node)\n",
    "uh_ = np.broadcast_to(uh[:,None], shape=(NN,2))\n",
    "e = error(u, uh_)\n",
    "\n",
    "print('u= ', u)\n",
    "print('uh= ', uh_)\n",
    "print('e= ', e)"
   ]
  },
  {
   "cell_type": "code",
   "execution_count": 266,
   "id": "5a912a2e",
   "metadata": {},
   "outputs": [
    {
     "data": {
      "image/png": "[encoded data removed]",
      "text/plain": [
       "<Figure size 432x288 with 1 Axes>"
      ]
     },
     "metadata": {
      "needs_background": "light"
     },
     "output_type": "display_data"
    }
   ],
   "source": [
    "fig = plt.figure()\n",
    "ax = fig.gca()\n",
    "mesh.add_plot(ax)\n",
    "mesh.find_node(ax,showindex=True)\n",
    "mesh.find_cell(ax,showindex=True)\n",
    "\n",
    "#print(\"NN= \", NN)\n",
    "#print(\"NC= \", NC)\n",
    "#print(\"glam= \\n\", glam)\n",
    "#print(\"GLAM= \", GLAM)\n",
    "#print(\"GLAM.T\", GLAM_T)\n",
    "#print(\"S= \", S.toarray())\n",
    "#print(\"glam_sum= \\n\", glam_sum)\n",
    "#print(\"M= \", M.toarray())\n",
    "#print(\"node= \", node)\n",
    "#print(\"cell= \", cell)\n",
    "#print(\"I= \", I)\n",
    "#print(\"J= \", J)"
   ]
  },
  {
   "cell_type": "code",
   "execution_count": 267,
   "id": "4f01d105",
   "metadata": {},
   "outputs": [],
   "source": [
    "#scale = 10\n",
    "#mesh.node[:,0] += scale*uh\n",
    "#mesh.node[:,1] += scale*uh\n",
    "#mesh.add_plot(plt)\n",
    "#plt.show()"
   ]
  },
  {
   "cell_type": "code",
   "execution_count": 268,
   "id": "cd726dd5",
   "metadata": {},
   "outputs": [],
   "source": [
    "#print(\"bcs= \", bcs)\n",
    "#print(\"phi= \", phi)\n",
    "#print(\"ws= \", ws)\n",
    "#print(\"ps= \", ps)\n",
    "#print(\"val= \", val)\n",
    "#print(\"node[cell]= \", node[cell])\n",
    "#print(\"bb= \", bb)\n",
    "#print(\"F= \", F)\n",
    "#print(\"uh= \", uh)"
   ]
  },
  {
   "cell_type": "code",
   "execution_count": null,
   "id": "583e76d9",
   "metadata": {},
   "outputs": [],
   "source": []
  },
  {
   "cell_type": "code",
   "execution_count": null,
   "id": "346a7070",
   "metadata": {},
   "outputs": [],
   "source": []
  }
 ],
 "metadata": {
  "kernelspec": {
   "display_name": "Python 3 (ipykernel)",
   "language": "python",
   "name": "python3"
  },
  "language_info": {
   "codemirror_mode": {
    "name": "ipython",
    "version": 3
   },
   "file_extension": ".py",
   "mimetype": "text/x-python",
   "name": "python",
   "nbconvert_exporter": "python",
   "pygments_lexer": "ipython3",
   "version": "3.9.12"
  }
 },
 "nbformat": 4,
 "nbformat_minor": 5
}
