{
 "cells": [
  {
   "cell_type": "code",
   "execution_count": 58,
   "id": "64bc2842",
   "metadata": {},
   "outputs": [],
   "source": [
    "import numpy as np\n",
    "from scipy.sparse.linalg import spsolve\n",
    "from scipy.sparse import csr_matrix\n",
    "import matplotlib.pyplot as plt\n",
    "\n",
    "from fealpy.decorator import cartesian\n",
    "from fealpy.mesh import TriangleMesh\n",
    "from fealpy.functionspace import LagrangeFiniteElementSpace\n",
    "from fealpy.boundarycondition import DirichletBC\n",
    "\n",
    "class pde():\n",
    "    def __init__(self, mu=1, lam=1):\n",
    "        self.mu  = mu\n",
    "        self.lam = lam\n",
    "        \n",
    "    def domain(self):\n",
    "        return [0, 1, 0, 1]\n",
    "    \n",
    "    def init_mesh(self, n=1, meshtype='tri'):\n",
    "        node = np.array([\n",
    "            (0,0),\n",
    "            (1,0),\n",
    "            (1,1),\n",
    "            (0,1)], dtype=np.float64)\n",
    "        cell = np.array([(1,2,0), (3,0,2)], dtype=np.int64)\n",
    "        mesh = TriangleMesh(node, cell)\n",
    "        mesh.uniform_refine(n)\n",
    "        return mesh\n",
    "    \n",
    "    @cartesian\n",
    "    def source(self, p):\n",
    "        x = p[..., 0]\n",
    "        y = p[..., 1]\n",
    "        \n",
    "        var = np.zeros(p.shape, dtype=np.float64)\n",
    "        var[..., 0] = -((12 * x**2 - 12 * x + 2) * (4 * y**3 - 6 * y**2 + 2 * y) \n",
    "                        + (x - x**2)**2 * (24 * y - 12))\n",
    "        var[..., 1] = ((24 * x - 12) * (y - y**2)**2  \n",
    "                        +(4 * x**3 - 6 * x**2 + 2 * x) * (12 * y**2 -12 * y + 2))\n",
    "        return var\n",
    "    \n",
    "    def dirichlet(self, p):\n",
    "        var = np.zeros_like(p)\n",
    "        return var\n",
    "    \n",
    "    def is_dirichlet_boundary(self, p):\n",
    "        x = p[..., 0]\n",
    "        y = p[..., 1]\n",
    "        flag = np.max(np.abs(x)) < 1e-13 or np.max(np.abs(y)) < 1e-13\n",
    "    \n",
    "pde = pde()\n",
    "mesh = pde.init_mesh(2)\n",
    "NN = mesh.number_of_nodes()\n",
    "NC = mesh.number_of_cells()\n",
    "#[NC,2] 剖分点及其编号(下标)\n",
    "node = mesh.entity('node') \n",
    "#[NC,3] 剖分区间及其端点编号\n",
    "cell = mesh.entity('cell') \n",
    "#[NC] 每个单元的面积\n",
    "cm = mesh.entity_measure()\n",
    "\n",
    "#[NC,3,2] 每个单元上基函数(三个)对x、y的偏导数\n",
    "glam = mesh.grad_lambda()\n",
    "GLAM = np.broadcast_to(glam[:, :, None, :], shape=[NC,3,2,2])\n",
    "\n",
    "#[NC,3,3] 单元刚度矩阵第一部分\n",
    "S = np.einsum(\"cnij, cmij, c->cnm\", GLAM, GLAM, cm)\n",
    "glam_sum = np.einsum(\"cni->cn\", glam)\n",
    "#[NC,3,3] 单元刚度矩阵第二部分\n",
    "M = np.einsum(\"cn, cm->cnm\", glam_sum, glam_sum)\n",
    "\n",
    "I = np.broadcast_to(cell[:, :, None], shape=S.shape)\n",
    "J = np.broadcast_to(cell[:, None, :], shape=S.shape)\n",
    "\n",
    "S = csr_matrix((S.flat, (I.flat, J.flat)), shape=(NN,NN))\n",
    "M = csr_matrix((M.flat, (I.flat, J.flat)), shape=(NN,NN))\n",
    "A = S + M"
   ]
  },
  {
   "cell_type": "code",
   "execution_count": 59,
   "id": "5a912a2e",
   "metadata": {},
   "outputs": [],
   "source": [
    "#fig = plt.figure()\n",
    "#ax = fig.gca()\n",
    "#mesh.add_plot(ax)\n",
    "#mesh.find_node(ax,showindex=True)\n",
    "#mesh.find_cell(ax,showindex=True)\n",
    "\n",
    "#print(\"NN= \", NN)\n",
    "#print(\"NC= \", NC)\n",
    "#print(\"glam= \\n\", glam)\n",
    "#print(\"GLAM= \", GLAM)\n",
    "#print(\"S= \", S.toarray())\n",
    "#print(\"glam_sum= \\n\", glam_sum)\n",
    "#print(\"M= \", M.toarray())\n",
    "#print(\"node= \", node)\n",
    "#print(\"cell= \", cell)\n",
    "#print(\"I= \", I)\n",
    "#print(\"J= \", J)"
   ]
  },
  {
   "cell_type": "code",
   "execution_count": 60,
   "id": "7efc2d45",
   "metadata": {},
   "outputs": [],
   "source": [
    "from fealpy.quadrature import TriangleQuadrature\n",
    "\n",
    "NQ = 2\n",
    "Q = NQ * (NQ + 1) / 2\n",
    "qf = TriangleQuadrature(NQ)\n",
    "\n",
    "#bcs [Q,3]; WS[Q,]\n",
    "bcs,ws = qf.get_quadrature_points_and_weights()\n",
    "#phi [Q,3,2]\n",
    "phi = np.broadcast_to(bcs[:, :, None], shape=[int(Q),3,2])\n",
    "\n",
    "#ps [Q,NC,2]\n",
    "ps = np.einsum('qi, cim->qcm', bcs, node[cell])\n",
    "#val [Q,NC,2]\n",
    "val = pde.source(ps)\n",
    "bb = np.einsum('q, qcj, qij, c->ci', ws, val, phi, cm)\n",
    "\n",
    "F = np.zeros(NN)\n",
    "np.add.at(F, cell, bb)\n",
    "\n",
    "isBdNode = mesh.ds.boundary_node_flag()\n",
    "isInterNode = ~isBdNode\n",
    "\n",
    "uh = np.zeros((NN), dtype=np.float64)\n",
    "uh[isInterNode] = spsolve(A[:, isInterNode][isInterNode], F[isInterNode])"
   ]
  },
  {
   "cell_type": "code",
   "execution_count": 61,
   "id": "cd726dd5",
   "metadata": {},
   "outputs": [
    {
     "name": "stdout",
     "output_type": "stream",
     "text": [
      "uh=  [ 0.00000000e+00  0.00000000e+00  0.00000000e+00  0.00000000e+00\n",
      "  0.00000000e+00  3.38813179e-20  0.00000000e+00  0.00000000e+00\n",
      "  0.00000000e+00  0.00000000e+00  2.52227589e-20  0.00000000e+00\n",
      "  0.00000000e+00  0.00000000e+00  6.77626358e-21  0.00000000e+00\n",
      "  0.00000000e+00  0.00000000e+00  0.00000000e+00  8.54152159e-04\n",
      "  4.81480675e-04 -8.54152159e-04  8.54152159e-04 -8.54152159e-04\n",
      " -4.81480675e-04]\n"
     ]
    }
   ],
   "source": [
    "#print(\"bcs= \", bcs)\n",
    "#print(\"phi= \", phi)\n",
    "#print(\"ws= \", ws)\n",
    "#print(\"ps= \", ps)\n",
    "#print(\"val= \", val)\n",
    "#print(\"node[cell]= \", node[cell])\n",
    "#print(\"bb= \", bb)\n",
    "#print(\"F= \", F)\n",
    "print(\"uh= \", uh)"
   ]
  },
  {
   "cell_type": "code",
   "execution_count": 62,
   "id": "583e76d9",
   "metadata": {},
   "outputs": [
    {
     "name": "stdout",
     "output_type": "stream",
     "text": [
      "run serial_construct_matrix with time: 0.0017953920032596216\n"
     ]
    }
   ],
   "source": [
    "space = LagrangeFiniteElementSpace(mesh, p=1)\n",
    "bc = DirichletBC(space, pde.dirichlet, threshold=pde.is_dirichlet_boundary)\n",
    "uh = space.function(dim=2)\n",
    "F = space.source_vector(pde.source, dim=2)\n",
    "#A, F = bc.apply(A, F, uh)\n",
    "\n",
    "B = space.stiff_matrix(c=2*pde.mu)\n",
    "C = space.linear_elasticity_matrix(pde.lam, pde.mu)"
   ]
  },
  {
   "cell_type": "code",
   "execution_count": null,
   "id": "346a7070",
   "metadata": {},
   "outputs": [],
   "source": []
  }
 ],
 "metadata": {
  "kernelspec": {
   "display_name": "Python 3 (ipykernel)",
   "language": "python",
   "name": "python3"
  },
  "language_info": {
   "codemirror_mode": {
    "name": "ipython",
    "version": 3
   },
   "file_extension": ".py",
   "mimetype": "text/x-python",
   "name": "python",
   "nbconvert_exporter": "python",
   "pygments_lexer": "ipython3",
   "version": "3.9.12"
  }
 },
 "nbformat": 4,
 "nbformat_minor": 5
}
