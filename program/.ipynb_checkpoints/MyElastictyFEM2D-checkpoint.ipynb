{
 "cells": [
  {
   "cell_type": "code",
   "execution_count": 242,
   "id": "64bc2842",
   "metadata": {},
   "outputs": [],
   "source": [
    "import numpy as np\n",
    "from scipy.sparse.linalg import spsolve\n",
    "from scipy.sparse import csr_matrix\n",
    "import matplotlib.pyplot as plt\n",
    "\n",
    "from fealpy.decorator import cartesian\n",
    "from fealpy.mesh import TriangleMesh\n",
    "from fealpy.functionspace import LagrangeFiniteElementSpace\n",
    "from fealpy.boundarycondition import DirichletBC\n",
    "\n",
    "class pde():\n",
    "    def __init__(self, mu=1, lam=1):\n",
    "        self.mu  = mu\n",
    "        self.lam = lam\n",
    "        \n",
    "    def domain(self):\n",
    "        return [0, 1, 0, 1]\n",
    "    \n",
    "    def init_mesh(self, n=1, meshtype='tri'):\n",
    "        node = np.array([\n",
    "            (0,0),\n",
    "            (1,0),\n",
    "            (1,1),\n",
    "            (0,1)], dtype=np.float64)\n",
    "        cell = np.array([(1,2,0), (3,0,2)], dtype=np.int64)\n",
    "        mesh = TriangleMesh(node, cell)\n",
    "        mesh.uniform_refine(n)\n",
    "        return mesh\n",
    "    \n",
    "    @cartesian\n",
    "    def source(self, p):\n",
    "        x = p[..., 0]\n",
    "        y = p[..., 1]\n",
    "        \n",
    "        var = np.zeros(p.shape, dtype=np.float64)\n",
    "        var[..., 0] = -((12 * x**2 - 12 * x + 2) * (4 * y**3 - 6 * y**2 + 2 * y) \n",
    "                        + (x - x**2)**2 * (24 * y - 12))\n",
    "        var[..., 1] = ((24 * x - 12) * (y - y**2)**2  \n",
    "                        +(4 * x**3 - 6 * x**2 + 2 * x) * (12 * y**2 -12 * y + 2))\n",
    "        return var\n",
    "    \n",
    "    def dirichlet(self, p):\n",
    "        var = np.zeros_like(p)\n",
    "        return var\n",
    "    \n",
    "    def is_dirichlet_boundary(self, p):\n",
    "        x = p[..., 0]\n",
    "        y = p[..., 1]\n",
    "        flag = np.max(np.abs(x)) < 1e-13 or np.max(np.abs(y)) < 1e-13\n",
    "    \n",
    "pde = pde()\n",
    "mesh = pde.init_mesh(1)\n",
    "NN = mesh.number_of_nodes()\n",
    "NC = mesh.number_of_cells()\n",
    "#[NC,2] 剖分点及其编号(下标)\n",
    "node = mesh.entity('node') \n",
    "#[NC,3] 剖分区间及其端点编号\n",
    "cell = mesh.entity('cell') \n",
    "#[NC] 每个单元的面积\n",
    "cm = mesh.entity_measure()\n",
    "\n",
    "#[NC,3,2] 每个单元上基函数(三个)对x、y的偏导数\n",
    "glam = mesh.grad_lambda()\n",
    "GLAM = np.broadcast_to(glam[:, :, None, :], shape=[NC,3,2,2])\n",
    "\n",
    "#[NC,3,3] 单元刚度矩阵第一部分\n",
    "S = np.einsum(\"cnij, cmij, c->cnm\", GLAM, GLAM, cm)\n",
    "glam_sum = np.einsum(\"cni->cn\", glam)\n",
    "#[NC,3,3] 单元刚度矩阵第二部分\n",
    "M = np.einsum(\"cn, cm->cnm\", glam_sum, glam_sum)\n",
    "\n",
    "I = np.broadcast_to(cell[:, :, None], shape=S.shape)\n",
    "J = np.broadcast_to(cell[:, None, :], shape=S.shape)\n",
    "\n",
    "S = csr_matrix((S.flat, (I.flat, J.flat)), shape=(NN,NN))\n",
    "M = csr_matrix((M.flat, (I.flat, J.flat)), shape=(NN,NN))\n",
    "A = S + M"
   ]
  },
  {
   "cell_type": "code",
   "execution_count": 243,
   "id": "5a912a2e",
   "metadata": {},
   "outputs": [
    {
     "data": {
      "image/png": "[encoded data removed]",
      "text/plain": [
       "<Figure size 432x288 with 1 Axes>"
      ]
     },
     "metadata": {
      "needs_background": "light"
     },
     "output_type": "display_data"
    }
   ],
   "source": [
    "fig = plt.figure()\n",
    "ax = fig.gca()\n",
    "mesh.add_plot(ax)\n",
    "mesh.find_node(ax,showindex=True)\n",
    "mesh.find_cell(ax,showindex=True)\n",
    "\n",
    "#print(\"NN= \", NN)\n",
    "#print(\"NC= \", NC)\n",
    "#print(\"glam= \\n\", glam)\n",
    "#print(\"GLAM= \", GLAM)\n",
    "#print(\"S= \", S.toarray())\n",
    "#print(\"glam_sum= \\n\", glam_sum)\n",
    "#print(\"M= \", M.toarray())\n",
    "#print(\"node= \", node)\n",
    "#print(\"cell= \", cell)\n",
    "#print(\"I= \", I)\n",
    "#print(\"J= \", J)"
   ]
  },
  {
   "cell_type": "code",
   "execution_count": 244,
   "id": "7efc2d45",
   "metadata": {},
   "outputs": [],
   "source": [
    "from fealpy.quadrature import TriangleQuadrature\n",
    "\n",
    "NQ = 2\n",
    "Q = NQ * (NQ + 1) / 2\n",
    "qf = TriangleQuadrature(NQ)\n",
    "\n",
    "#bcs [Q,3]; WS[Q,]\n",
    "bcs,ws = qf.get_quadrature_points_and_weights()\n",
    "#phi [Q,3,2]\n",
    "phi = np.broadcast_to(bcs[:, :, None], shape=[int(Q),3,2])\n",
    "\n",
    "#ps [Q,NC,2]\n",
    "ps = np.einsum('qi, cim->qcm', bcs, node[cell])\n",
    "#val [Q,NC,2]\n",
    "val = pde.source(ps)\n",
    "bb = np.einsum('q, qcj, qij, c->ci', ws, val, phi, cm)\n",
    "\n",
    "F = np.zeros(NN)\n",
    "np.add.at(F, cell, bb)\n",
    "uh = spsolve(A, F)"
   ]
  },
  {
   "cell_type": "code",
   "execution_count": 245,
   "id": "cd726dd5",
   "metadata": {},
   "outputs": [
    {
     "name": "stdout",
     "output_type": "stream",
     "text": [
      "uh=  [ 0.00112124  0.02393181  0.00112124 -0.02168933  0.02307581  0.00112124\n",
      " -0.02083333  0.02307581 -0.02083333]\n"
     ]
    }
   ],
   "source": [
    "#print(\"bcs= \", bcs)\n",
    "#print(\"phi= \", phi)\n",
    "#print(\"ws= \", ws)\n",
    "#print(\"ps= \", ps)\n",
    "#print(\"val= \", val)\n",
    "#print(\"node[cell]= \", node[cell])\n",
    "#print(\"bb= \", bb)\n",
    "#print(\"F= \", F)\n",
    "print(\"uh= \", uh)"
   ]
  },
  {
   "cell_type": "code",
   "execution_count": 246,
   "id": "583e76d9",
   "metadata": {},
   "outputs": [
    {
     "ename": "ValueError",
     "evalue": "dimension mismatch",
     "output_type": "error",
     "traceback": [
      "\u001b[0;31m---------------------------------------------------------------------------\u001b[0m",
      "\u001b[0;31mValueError\u001b[0m                                Traceback (most recent call last)",
      "Input \u001b[0;32mIn [246]\u001b[0m, in \u001b[0;36m<cell line: 5>\u001b[0;34m()\u001b[0m\n\u001b[1;32m      3\u001b[0m uh \u001b[38;5;241m=\u001b[39m space\u001b[38;5;241m.\u001b[39mfunction(dim\u001b[38;5;241m=\u001b[39m\u001b[38;5;241m2\u001b[39m)\n\u001b[1;32m      4\u001b[0m F \u001b[38;5;241m=\u001b[39m space\u001b[38;5;241m.\u001b[39msource_vector(pde\u001b[38;5;241m.\u001b[39msource, dim\u001b[38;5;241m=\u001b[39m\u001b[38;5;241m2\u001b[39m)\n\u001b[0;32m----> 5\u001b[0m A, F \u001b[38;5;241m=\u001b[39m \u001b[43mbc\u001b[49m\u001b[38;5;241;43m.\u001b[39;49m\u001b[43mapply\u001b[49m\u001b[43m(\u001b[49m\u001b[43mA\u001b[49m\u001b[43m,\u001b[49m\u001b[43m \u001b[49m\u001b[43mF\u001b[49m\u001b[43m,\u001b[49m\u001b[43m \u001b[49m\u001b[43muh\u001b[49m\u001b[43m)\u001b[49m\n\u001b[1;32m      7\u001b[0m B \u001b[38;5;241m=\u001b[39m space\u001b[38;5;241m.\u001b[39mstiff_matrix(c\u001b[38;5;241m=\u001b[39m\u001b[38;5;241m2\u001b[39m\u001b[38;5;241m*\u001b[39mpde\u001b[38;5;241m.\u001b[39mmu)\n\u001b[1;32m      8\u001b[0m C \u001b[38;5;241m=\u001b[39m space\u001b[38;5;241m.\u001b[39mlinear_elasticity_matrix(pde\u001b[38;5;241m.\u001b[39mlam, pde\u001b[38;5;241m.\u001b[39mmu)\n",
      "File \u001b[0;32m~/anaconda3/fealpy/fealpy/boundarycondition/BoundaryCondition.py:39\u001b[0m, in \u001b[0;36mDirichletBC.apply\u001b[0;34m(self, A, F, uh, threshold)\u001b[0m\n\u001b[1;32m     37\u001b[0m     F \u001b[38;5;241m=\u001b[39m F\u001b[38;5;241m.\u001b[39mT\u001b[38;5;241m.\u001b[39mflat\n\u001b[1;32m     38\u001b[0m x \u001b[38;5;241m=\u001b[39m uh\u001b[38;5;241m.\u001b[39mT\u001b[38;5;241m.\u001b[39mflat \u001b[38;5;66;03m# 把 uh 按列展平\u001b[39;00m\n\u001b[0;32m---> 39\u001b[0m F \u001b[38;5;241m-\u001b[39m\u001b[38;5;241m=\u001b[39m \u001b[43mA\u001b[49m\u001b[38;5;129;43m@x\u001b[39;49m\n\u001b[1;32m     40\u001b[0m bdIdx \u001b[38;5;241m=\u001b[39m np\u001b[38;5;241m.\u001b[39mzeros(A\u001b[38;5;241m.\u001b[39mshape[\u001b[38;5;241m0\u001b[39m], dtype\u001b[38;5;241m=\u001b[39mnp\u001b[38;5;241m.\u001b[39mint_)\n\u001b[1;32m     41\u001b[0m bdIdx[isDDof] \u001b[38;5;241m=\u001b[39m \u001b[38;5;241m1\u001b[39m\n",
      "File \u001b[0;32m~/anaconda3/lib/python3.9/site-packages/scipy/sparse/base.py:560\u001b[0m, in \u001b[0;36mspmatrix.__matmul__\u001b[0;34m(self, other)\u001b[0m\n\u001b[1;32m    557\u001b[0m \u001b[38;5;28;01mif\u001b[39;00m isscalarlike(other):\n\u001b[1;32m    558\u001b[0m     \u001b[38;5;28;01mraise\u001b[39;00m \u001b[38;5;167;01mValueError\u001b[39;00m(\u001b[38;5;124m\"\u001b[39m\u001b[38;5;124mScalar operands are not allowed, \u001b[39m\u001b[38;5;124m\"\u001b[39m\n\u001b[1;32m    559\u001b[0m                      \u001b[38;5;124m\"\u001b[39m\u001b[38;5;124muse \u001b[39m\u001b[38;5;124m'\u001b[39m\u001b[38;5;124m*\u001b[39m\u001b[38;5;124m'\u001b[39m\u001b[38;5;124m instead\u001b[39m\u001b[38;5;124m\"\u001b[39m)\n\u001b[0;32m--> 560\u001b[0m \u001b[38;5;28;01mreturn\u001b[39;00m \u001b[38;5;28;43mself\u001b[39;49m\u001b[38;5;241;43m.\u001b[39;49m\u001b[38;5;21;43m__mul__\u001b[39;49m\u001b[43m(\u001b[49m\u001b[43mother\u001b[49m\u001b[43m)\u001b[49m\n",
      "File \u001b[0;32m~/anaconda3/lib/python3.9/site-packages/scipy/sparse/base.py:498\u001b[0m, in \u001b[0;36mspmatrix.__mul__\u001b[0;34m(self, other)\u001b[0m\n\u001b[1;32m    495\u001b[0m \u001b[38;5;28;01mif\u001b[39;00m other\u001b[38;5;241m.\u001b[39mndim \u001b[38;5;241m==\u001b[39m \u001b[38;5;241m1\u001b[39m \u001b[38;5;129;01mor\u001b[39;00m other\u001b[38;5;241m.\u001b[39mndim \u001b[38;5;241m==\u001b[39m \u001b[38;5;241m2\u001b[39m \u001b[38;5;129;01mand\u001b[39;00m other\u001b[38;5;241m.\u001b[39mshape[\u001b[38;5;241m1\u001b[39m] \u001b[38;5;241m==\u001b[39m \u001b[38;5;241m1\u001b[39m:\n\u001b[1;32m    496\u001b[0m     \u001b[38;5;66;03m# dense row or column vector\u001b[39;00m\n\u001b[1;32m    497\u001b[0m     \u001b[38;5;28;01mif\u001b[39;00m other\u001b[38;5;241m.\u001b[39mshape \u001b[38;5;241m!=\u001b[39m (N,) \u001b[38;5;129;01mand\u001b[39;00m other\u001b[38;5;241m.\u001b[39mshape \u001b[38;5;241m!=\u001b[39m (N, \u001b[38;5;241m1\u001b[39m):\n\u001b[0;32m--> 498\u001b[0m         \u001b[38;5;28;01mraise\u001b[39;00m \u001b[38;5;167;01mValueError\u001b[39;00m(\u001b[38;5;124m'\u001b[39m\u001b[38;5;124mdimension mismatch\u001b[39m\u001b[38;5;124m'\u001b[39m)\n\u001b[1;32m    500\u001b[0m     result \u001b[38;5;241m=\u001b[39m \u001b[38;5;28mself\u001b[39m\u001b[38;5;241m.\u001b[39m_mul_vector(np\u001b[38;5;241m.\u001b[39mravel(other))\n\u001b[1;32m    502\u001b[0m     \u001b[38;5;28;01mif\u001b[39;00m \u001b[38;5;28misinstance\u001b[39m(other, np\u001b[38;5;241m.\u001b[39mmatrix):\n",
      "\u001b[0;31mValueError\u001b[0m: dimension mismatch"
     ]
    }
   ],
   "source": [
    "space = LagrangeFiniteElementSpace(mesh, p=1)\n",
    "bc = DirichletBC(space, pde.dirichlet, threshold=pde.is_dirichlet_boundary)\n",
    "uh = space.function(dim=2)\n",
    "F = space.source_vector(pde.source, dim=2)\n",
    "A, F = bc.apply(A, F, uh)\n",
    "\n",
    "B = space.stiff_matrix(c=2*pde.mu)\n",
    "C = space.linear_elasticity_matrix(pde.lam, pde.mu)\n",
    "print(\"A= \", A.toarray())\n",
    "print(\"B= \", B.toarray())\n",
    "print(\"C= \", C.toarray())\n",
    "\n",
    "print(\"uh= \", uh)\n",
    "print(\"F= \", F)\n",
    "uh = spsolve(A, F)\n",
    "print(\"uh= \", uh)"
   ]
  },
  {
   "cell_type": "code",
   "execution_count": null,
   "id": "c3433d63",
   "metadata": {},
   "outputs": [],
   "source": []
  }
 ],
 "metadata": {
  "kernelspec": {
   "display_name": "Python 3 (ipykernel)",
   "language": "python",
   "name": "python3"
  },
  "language_info": {
   "codemirror_mode": {
    "name": "ipython",
    "version": 3
   },
   "file_extension": ".py",
   "mimetype": "text/x-python",
   "name": "python",
   "nbconvert_exporter": "python",
   "pygments_lexer": "ipython3",
   "version": "3.9.12"
  }
 },
 "nbformat": 4,
 "nbformat_minor": 5
}
