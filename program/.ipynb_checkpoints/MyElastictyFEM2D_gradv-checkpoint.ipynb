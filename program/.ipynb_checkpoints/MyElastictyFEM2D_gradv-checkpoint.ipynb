{
 "cells": [
  {
   "cell_type": "markdown",
   "id": "3954f955",
   "metadata": {},
   "source": [
    "$改 a(u,\\nu) 中 \\epsilon (\\nu) 为 grad \\nu$"
   ]
  },
  {
   "cell_type": "markdown",
   "id": "2dce0f0e",
   "metadata": {},
   "source": [
    "## 模型与剖分"
   ]
  },
  {
   "cell_type": "code",
   "execution_count": 138,
   "id": "64bc2842",
   "metadata": {},
   "outputs": [],
   "source": [
    "import numpy as np\n",
    "from scipy.sparse.linalg import spsolve\n",
    "from scipy.sparse import csr_matrix\n",
    "import matplotlib.pyplot as plt\n",
    "\n",
    "from fealpy.decorator import cartesian\n",
    "from fealpy.mesh import TriangleMesh\n",
    "from fealpy.functionspace import LagrangeFiniteElementSpace\n",
    "from fealpy.boundarycondition import DirichletBC\n",
    "\n",
    "class pde():\n",
    "    def __init__(self, mu=1, lam=1):\n",
    "        self.mu  = mu\n",
    "        self.lam = lam\n",
    "        \n",
    "    def domain(self):\n",
    "        return [0, 1, 0, 1]\n",
    "    \n",
    "    def init_mesh(self, n=1, meshtype='tri'):\n",
    "        node = np.array([\n",
    "            (0,0),\n",
    "            (1,0),\n",
    "            (1,1),\n",
    "            (0,1)], dtype=np.float64)\n",
    "        cell = np.array([(1,2,0), (3,0,2)], dtype=np.int64)\n",
    "        mesh = TriangleMesh(node, cell)\n",
    "        mesh.uniform_refine(n)\n",
    "        return mesh\n",
    "    \n",
    "    @cartesian\n",
    "    def source(self, p):\n",
    "        x   = p[..., 0]\n",
    "        y   = p[..., 1]\n",
    "        mu  = self.mu\n",
    "        lam = self.lam\n",
    "        \n",
    "        sin = np.sin\n",
    "        cos = np.cos\n",
    "        val = np.zeros(p.shape, dtype=np.float64)\n",
    "        \n",
    "        val[..., 0] = -((2 * mu + lam) * y * (y - 1) * (2 * cos(x) - (x - 1) * sin(x))\n",
    "                        + (mu + lam) * (2 * x - 1) * (sin(y) + (y - 1) * cos(y)) \n",
    "                        + 2 * mu * (x -1) * sin(x))\n",
    "        val[..., 1] = -((2 * mu + lam) * x * (x - 1) * (2 * cos(y) - (y - 1) * sin(y))\n",
    "                        + (mu + lam) * (2 * y - 1) * (sin(x) + (x - 1) * cos(x))\n",
    "                        + 2 * mu * (y - 1) * sin(y))\n",
    "\n",
    "        #val[..., 0] = -(2 * (2 * mu + lam) * y * (y - 1) \n",
    "        #                + (mu + lam) * (2 * x - 1) * (2 * y - 1)\n",
    "        #                + 2 * mu * x * (x - 1))\n",
    "        #val[..., 1] = -(2 * (2 * mu + lam) * x * (x - 1)\n",
    "        #                + (mu + lam) * (2 * x - 1) * (2 * y - 1)\n",
    "        #                + 2 * mu * y * (y - 1))\n",
    "        return val\n",
    "    \n",
    "    def dirichlet(self, p):\n",
    "        var = np.zeros_like(p)\n",
    "        return var\n",
    "    \n",
    "    def solution(self, p):\n",
    "        x = p[..., 0]\n",
    "        y = p[..., 1]\n",
    "        \n",
    "        val = np.zeros(p.shape, dtype=np.float64)\n",
    "        \n",
    "        val[..., 0] = y * (x - 1) * (y - 1) * np.sin(x)\n",
    "        val[..., 1] = x * (x - 1) * (y - 1) * np.sin(y)\n",
    "        \n",
    "        #val[..., 0] = x * (x - 1) * y * (y - 1)\n",
    "        #val[..., 1] = x * (x - 1) * y * (y - 1)\n",
    "        return val\n",
    "        \n",
    "    def is_dirichlet_boundary(self, p):\n",
    "        x = p[..., 0]\n",
    "        y = p[..., 1]\n",
    "        flag = np.max(np.abs(y)) < 1e-13 \n",
    "        return flag\n",
    "    \n",
    "def error(u, uh):\n",
    "    e = u - uh\n",
    "    emax = np.max(np.abs(e))\n",
    "    return emax\n",
    "\n",
    "n = 7\n",
    "pde = pde(1,1)\n",
    "mesh = pde.init_mesh(n)\n",
    "NN = mesh.number_of_nodes()\n",
    "NC = mesh.number_of_cells()\n",
    "#[NC,2] 剖分点及其编号(下标)\n",
    "node = mesh.entity('node') \n",
    "#[NC,3] 剖分区间及其端点编号\n",
    "cell = mesh.entity('cell') \n",
    "#[NC] 每个单元的面积\n",
    "cm = mesh.entity_measure()"
   ]
  },
  {
   "cell_type": "markdown",
   "id": "31b2a928",
   "metadata": {},
   "source": [
    "## 剖分图"
   ]
  },
  {
   "cell_type": "code",
   "execution_count": 139,
   "id": "5a912a2e",
   "metadata": {},
   "outputs": [],
   "source": [
    "#fig = plt.figure()\n",
    "#ax = fig.gca()\n",
    "#mesh.add_plot(ax)\n",
    "#mesh.find_node(ax,showindex=True)\n",
    "#mesh.find_cell(ax,showindex=True)"
   ]
  },
  {
   "cell_type": "markdown",
   "id": "c4932836",
   "metadata": {},
   "source": [
    "## 刚度矩阵\n",
    "\n",
    "每个单元六个基函数，为$\\varphi_1(第一个节点x方向), \\varphi_2(第一个节点y方向), \\varphi_3(第二个节点x方向), \\varphi_4(第二个节点y方向), \\varphi_5(第三个节点x方向), \\varphi_6(第三个节点y方向)$ "
   ]
  },
  {
   "cell_type": "code",
   "execution_count": 140,
   "id": "b7efd2cd",
   "metadata": {},
   "outputs": [],
   "source": [
    "##[NC,3,2] 每个单元上基函数(三个)对x、y的偏导数\n",
    "glam_x_y = mesh.grad_lambda()\n",
    "#print(\"glam_x_y= \", glam_x_y)\n",
    "glam_dim4 = np.broadcast_to(glam_x_y[:, :, None, :], shape=(NC,3,2,2)).copy()\n",
    "#print(\"glam_dim4= \", glam_dim4)\n",
    "glam_dim5 = np.broadcast_to(glam_dim4[:, :, :, None, :], shape=(NC,3,2,2,2)).copy()\n",
    "#print(\"glam_dim5= \", glam_dim5)\n",
    "glam_dim5[:, :, 0, 1, :] = 0 # [NC,3(三个节点),2(每个点两个基函数),2,2(后两个指标指基函数的 grad)]\n",
    "glam_dim5[:, :, 1, 0, :] = 0 # x方向上的基函数第二个分量为0，y方向上的基函数第一个分量为0\n",
    "#print(\"glam_dim5= \", glam_dim5)\n",
    "\n",
    "# [NC,3,2]\n",
    "glam_div = np.einsum(\"cnmij->cnm\", glam_dim5)\n",
    "# [NC,6(每个基函数的 div)]\n",
    "glam_div = glam_div.reshape(NC,6)\n",
    "#print(\"glam_sum= \", glam_sum)\n",
    "\n",
    "glam_v = glam_dim5.reshape(NC,6,2,2)\n",
    "#print(\"glam_v= \", glam_v)\n",
    "glam_t = glam_dim5.swapaxes(3,4)\n",
    "glam_dim5 = glam_dim5 + glam_t\n",
    "#print(\"glam_dim5= \", glam_dim5)\n",
    "glam_dim4 = glam_dim5.reshape(NC,6,2,2)  #后两个指标指每个基函数的 grad + grad^t\n",
    "#print(\"glam_dim4= \", glam_dim4)\n",
    "\n",
    "# [NC,6,6]\n",
    "S = np.einsum(\"cnij, cmij, c->cnm\", glam_dim4, glam_v, cm)\n",
    "#[NC,6,6] 单元刚度矩阵第二部分\n",
    "M = np.einsum(\"cn, cm, c->cnm\", glam_div, glam_div, cm)\n",
    "\n",
    "cell_x_y = np.broadcast_to(cell[:,:,None], shape=(NC, 3, 2)).copy()\n",
    "cell_x_y[:,:,0] = 2 * cell_x_y[:,:,0]       #[NC,3] 三个节点x方向上基函数在总刚度矩阵的位置\n",
    "cell_x_y[:,:,1] = 2 * cell_x_y[:,:,1] + 1   #[NC,3] 三个节点y方向上基函数在总刚度矩阵的位置\n",
    "#print(\"cell= \", cell)\n",
    "#print(\"cell_x_y= \", cell_x_y)\n",
    "cell_x_y = cell_x_y.reshape(NC, 6)\n",
    "#print(\"cell_x_y= \", cell_x_y)\n",
    "I = np.broadcast_to(cell_x_y[:, :, None], shape=S.shape)\n",
    "J = np.broadcast_to(cell_x_y[:, None, :], shape=S.shape)\n",
    "#print(\"I= \", I)\n",
    "#print(\"J= \", J)\n",
    "\n",
    "S = csr_matrix((S.flat, (I.flat, J.flat)), shape=(2 * NN,2 * NN))\n",
    "M = csr_matrix((M.flat, (I.flat, J.flat)), shape=(2 * NN,2 * NN))\n",
    "A = pde.mu * S + pde.lam * M\n",
    "#print(\"A= \", A.toarray())"
   ]
  },
  {
   "cell_type": "code",
   "execution_count": 141,
   "id": "20ed55c6",
   "metadata": {},
   "outputs": [],
   "source": [
    "def is_Bd_Node_flag():\n",
    "    n = mesh.number_of_nodes()\n",
    "    isBdNode = np.zeros(n, dtype=bool)\n",
    "    for i in range(n):\n",
    "        if (pde.is_dirichlet_boundary(mesh.node[i])):\n",
    "            isBdNode[i] = True\n",
    "    return isBdNode"
   ]
  },
  {
   "cell_type": "markdown",
   "id": "fb3d8010",
   "metadata": {},
   "source": [
    "## 载荷向量与求解\n",
    "\n",
    "node[cell] [NC,3(三个节点),2(每个节点的 x, y 坐标)] 每个区间上节点的编号为 i,j,k\n",
    "\n",
    "bb 编号与 $\\varphi$ 相同"
   ]
  },
  {
   "cell_type": "code",
   "execution_count": 142,
   "id": "7efc2d45",
   "metadata": {},
   "outputs": [],
   "source": [
    "from fealpy.quadrature import TriangleQuadrature\n",
    "\n",
    "NQ = 3\n",
    "Q = int(NQ * (NQ + 1) / 2) # 内积分点数\n",
    "qf = TriangleQuadrature(NQ)\n",
    "\n",
    "#bcs [Q,3]; WS[Q,]\n",
    "bcs,ws = qf.get_quadrature_points_and_weights()\n",
    "#print(\"bcs= \", bcs)\n",
    "#phi [Q,3,2]\n",
    "phi = np.broadcast_to(bcs[:, :, None], shape=[Q,3,2])\n",
    "#print(\"phi= \", phi)\n",
    "\n",
    "#[Q,3,2(每个内积分节点两个基函数),2(每个基函数两个分量)]\n",
    "phi_x_y = np.zeros((Q, 3, 2, 2), dtype=np.float64) \n",
    "phi_x_y[:, :, :, 0] = phi\n",
    "phi_x_y[:, :, :, 1] = phi\n",
    "phi_x_y[:, :, 0, 1] = 0\n",
    "phi_x_y[:, :, 1, 0] = 0\n",
    "phi_x_y = phi_x_y.reshape(Q,6,2)\n",
    "#print(\"phi_x_y= \", phi_x_y)\n",
    "\n",
    "# node[cell] [NC,3(三个节点),2(每个节点的 x, y 坐标)]\n",
    "# ps [Q,NC,2]\n",
    "# 内积分点标准单元坐标转换为真实坐标\n",
    "ps = np.einsum('qi, cim->qcm', bcs, node[cell]) \n",
    "#print(\"ps= \", ps)\n",
    "# val [Q,NC,2] 每个内积分的右端项的值\n",
    "val = pde.source(ps)\n",
    "#print(\"val= \", val)\n",
    "#bb [NC,6]\n",
    "bb = np.einsum('q, qcj, qij, c->ci', ws, val, phi_x_y, cm)\n",
    "#print(\"cell= \", cell)\n",
    "#print(\"bb= \", bb)\n",
    "#print(\"cel_x_y= \", cell_x_y)\n",
    "\n",
    "F = np.zeros(2 * NN)\n",
    "np.add.at(F, cell_x_y, bb)\n",
    "#print(\"F= \", F)\n",
    "\n",
    "isBdNode = mesh.ds.boundary_node_flag()\n",
    "isInterNode = ~isBdNode\n",
    "#print(\"isInterNode= \", isInterNode)\n",
    "isInterNode = np.broadcast_to(isInterNode[:, None], shape=(NN, 2))\n",
    "isInterNode = isInterNode.reshape(2 * NN)\n",
    "#print(\"isInterNode= \", isInterNode)\n",
    "\n",
    "uh = np.zeros((2 * NN), dtype=np.float64)\n",
    "uh[isInterNode] = spsolve(A[:, isInterNode][isInterNode], F[isInterNode])\n",
    "#print(\"uh= \", uh)\n",
    "uh = uh.reshape(NN, 2)\n",
    "#print(\"uh= \", uh)\n",
    "#print(\"F[isInterNode]= \", F[isInterNode])"
   ]
  },
  {
   "cell_type": "code",
   "execution_count": 143,
   "id": "583e76d9",
   "metadata": {},
   "outputs": [],
   "source": [
    "#def source(p):\n",
    "#    val = np.ones_like(p)\n",
    "#    return val\n",
    "#\n",
    "#val_exam = source(ps)\n",
    "#print(\"val_exam= \", val_exam)\n",
    "#quad = np.einsum('q, qj, c->cj', ws, phi_x_y[:,0,:], cm)\n",
    "#print(\"quad= \", quad)"
   ]
  },
  {
   "cell_type": "markdown",
   "id": "b7b7605f",
   "metadata": {},
   "source": [
    "## 绝对误差\n",
    "\n",
    "假设按 n=1,2, ... , 6, 7 的顺序执行"
   ]
  },
  {
   "cell_type": "code",
   "execution_count": 144,
   "id": "b5c4da7e",
   "metadata": {},
   "outputs": [],
   "source": [
    "if (n == 1):\n",
    "    h1 = cm[0]\n",
    "    uh1 = uh\n",
    "    u1 = pde.solution(node)\n",
    "elif (n == 2):\n",
    "    h2 = cm[0]\n",
    "    uh2 = uh\n",
    "    u2 = pde.solution(node)\n",
    "elif (n == 3):\n",
    "    h3 = cm[0]\n",
    "    uh3 = uh\n",
    "    u3 = pde.solution(node)\n",
    "elif (n == 4):\n",
    "    h4 = cm[0]\n",
    "    uh4 = uh\n",
    "    u4 = pde.solution(node)\n",
    "elif (n == 5):\n",
    "    h5 = cm[0]\n",
    "    uh5 = uh\n",
    "    u5 = pde.solution(node)\n",
    "elif (n == 6):\n",
    "    h6 = cm[0]\n",
    "    uh6 = uh\n",
    "    u6 = pde.solution(node)\n",
    "elif (n == 7):\n",
    "    h7 = cm[0]\n",
    "    uh7 = uh\n",
    "    u7 = pde.solution(node)"
   ]
  },
  {
   "cell_type": "code",
   "execution_count": 145,
   "id": "5ace1540",
   "metadata": {},
   "outputs": [
    {
     "name": "stdout",
     "output_type": "stream",
     "text": [
      "h=  0.125\n",
      "e=  0.020011985167137418\n",
      "\n",
      "h=  0.03125\n",
      "e=  0.023112771131949927\n",
      "\n",
      "h=  0.0078125\n",
      "e=  0.023775992874108996\n",
      "\n",
      "h=  0.001953125\n",
      "e=  0.023991523136235794\n",
      "\n",
      "h=  0.00048828125\n",
      "e=  0.02405516735753832\n",
      "\n",
      "h=  0.0001220703125\n",
      "e=  0.024090014204360813\n",
      "h=  3.0517578125e-05\n",
      "e=  0.02409204146911572\n"
     ]
    }
   ],
   "source": [
    "if (n >= 1):\n",
    "    e1 = error(u1, uh1)\n",
    "    print(\"h= \", h1)\n",
    "    print(\"e= \", e1)\n",
    "    print()\n",
    "if (n >= 2):\n",
    "    e2 = error(u2, uh2)\n",
    "    print(\"h= \", h2)\n",
    "    print(\"e= \", e2)\n",
    "    print()\n",
    "if (n >= 3):\n",
    "    e3 = error(u3, uh3)\n",
    "    print(\"h= \", h3)\n",
    "    print(\"e= \", e3)\n",
    "    print()\n",
    "if (n >= 4):\n",
    "    e4 = error(u4, uh4)\n",
    "    print(\"h= \", h4)\n",
    "    print(\"e= \", e4)\n",
    "    print()\n",
    "if (n >= 5):\n",
    "    e5= error(u5, uh5)\n",
    "    print(\"h= \", h5)\n",
    "    print(\"e= \", e5)\n",
    "    print()\n",
    "if (n >= 6):\n",
    "    e6= error(u6, uh6)\n",
    "    print(\"h= \", h6)\n",
    "    print(\"e= \", e6)\n",
    "if (n >= 7):\n",
    "    e7= error(u7, uh7)\n",
    "    print(\"h= \", h7)\n",
    "    print(\"e= \", e7)"
   ]
  },
  {
   "cell_type": "markdown",
   "id": "b2064737",
   "metadata": {},
   "source": [
    "## 相对误差"
   ]
  },
  {
   "cell_type": "code",
   "execution_count": 146,
   "id": "a247a1ba",
   "metadata": {},
   "outputs": [],
   "source": [
    "def error_rel(uh1, uh2):\n",
    "    val = uh2[0:uh1.shape[0]] - uh1\n",
    "    return np.max(np.abs(val))"
   ]
  },
  {
   "cell_type": "code",
   "execution_count": 147,
   "id": "ad9f32dd",
   "metadata": {},
   "outputs": [],
   "source": [
    "if (n == 1):\n",
    "    uh1 = uh\n",
    "elif (n == 2):\n",
    "    uh2 = uh\n",
    "elif (n == 3):\n",
    "    uh3 = uh\n",
    "elif (n == 4):\n",
    "    uh4 = uh\n",
    "elif (n == 5):\n",
    "    uh5 = uh\n",
    "elif (n == 6):\n",
    "    uh6 = uh\n",
    "elif (n == 7):\n",
    "    uh7 = uh"
   ]
  },
  {
   "cell_type": "code",
   "execution_count": 148,
   "id": "be8a06ac",
   "metadata": {},
   "outputs": [],
   "source": [
    "#if (n >= 2):\n",
    "#    e2 = error_rel(uh1, uh2)\n",
    "#if (n >= 3):\n",
    "#    e3 = error_rel(uh2, uh3)\n",
    "#if (n >= 4):\n",
    "#    e4 = error_rel(uh3, uh4)\n",
    "#if (n >= 5):\n",
    "#    e5 = error_rel(uh6, uh5)\n",
    "#if (n >= 6):\n",
    "#    e6 = error_rel(uh5, uh6)"
   ]
  },
  {
   "cell_type": "code",
   "execution_count": 149,
   "id": "65443bd3",
   "metadata": {},
   "outputs": [],
   "source": [
    "h = np.zeros(7)\n",
    "e = np.zeros(6)\n",
    "\n",
    "if (n >= 1):\n",
    "    h[0] = h1\n",
    "if (n >= 2):\n",
    "    h[1] = h2\n",
    "    e[0] = error_rel(uh1, uh2)\n",
    "if (n >= 3):\n",
    "    h[2] = h3\n",
    "    e[1] = error_rel(uh2, uh3)\n",
    "if (n >= 4):\n",
    "    h[3] = h4\n",
    "    e[2] = error_rel(uh3, uh4)\n",
    "if (n >= 5):\n",
    "    h[4] = h5\n",
    "    e[3] = error_rel(uh4, uh5)\n",
    "if (n >= 6):\n",
    "    h[5] = h6\n",
    "    e[4] = error_rel(uh5, uh6)\n",
    "if (n >= 7):\n",
    "    h[6] = h7\n",
    "    e[5] = error_rel(uh6, uh7)"
   ]
  },
  {
   "cell_type": "code",
   "execution_count": 150,
   "id": "fd9bf546",
   "metadata": {},
   "outputs": [
    {
     "name": "stdout",
     "output_type": "stream",
     "text": [
      "h=  0.03125\n",
      "e=  0.0031007859648125094\n",
      "\n",
      "h=  0.0078125\n",
      "e=  0.0006632217421590689\n",
      "\n",
      "h=  0.001953125\n",
      "e=  0.0001483300483384048\n",
      "\n",
      "h=  0.00048828125\n",
      "e=  4.35381987520609e-05\n",
      "\n",
      "h=  0.0001220703125\n",
      "e=  1.6079166666288524e-05\n",
      "\n",
      "h=  3.0517578125e-05\n",
      "e=  6.28835277541388e-06\n",
      "\n"
     ]
    }
   ],
   "source": [
    "print(\"lam= \", pde.lam)\n",
    "for i in range(n-1):\n",
    "    print(\"h= \", h[i+1])\n",
    "    print(\"e= \", e[i])\n",
    "    print()"
   ]
  },
  {
   "cell_type": "code",
   "execution_count": 151,
   "id": "1f9c6f48",
   "metadata": {},
   "outputs": [
    {
     "data": {
      "text/plain": [
       "[<matplotlib.lines.Line2D at 0x7f814200bd60>]"
      ]
     },
     "execution_count": 151,
     "metadata": {},
     "output_type": "execute_result"
    },
    {
     "data": {
      "image/png": "[encoded data removed]",
      "text/plain": [
       "<Figure size 432x288 with 1 Axes>"
      ]
     },
     "metadata": {
      "needs_background": "light"
     },
     "output_type": "display_data"
    }
   ],
   "source": [
    "plt.plot(np.log(h[1:n]), np.log(e[:n-1]))"
   ]
  },
  {
   "cell_type": "code",
   "execution_count": 152,
   "id": "5578140a",
   "metadata": {},
   "outputs": [
    {
     "name": "stdout",
     "output_type": "stream",
     "text": [
      " \n",
      "0.8942 x - 2.963\n"
     ]
    }
   ],
   "source": [
    "f = np.polyfit(np.log(h[1:n]), np.log(e[:n-1]),1)\n",
    "p = np.poly1d(f)\n",
    "print(p)"
   ]
  },
  {
   "cell_type": "code",
   "execution_count": null,
   "id": "c6e14627",
   "metadata": {},
   "outputs": [],
   "source": []
  }
 ],
 "metadata": {
  "kernelspec": {
   "display_name": "Python 3 (ipykernel)",
   "language": "python",
   "name": "python3"
  },
  "language_info": {
   "codemirror_mode": {
    "name": "ipython",
    "version": 3
   },
   "file_extension": ".py",
   "mimetype": "text/x-python",
   "name": "python",
   "nbconvert_exporter": "python",
   "pygments_lexer": "ipython3",
   "version": "3.9.12"
  }
 },
 "nbformat": 4,
 "nbformat_minor": 5
}
