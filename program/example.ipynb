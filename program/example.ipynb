{
 "cells": [
  {
   "cell_type": "code",
   "execution_count": 1,
   "id": "8028ee4c",
   "metadata": {},
   "outputs": [
    {
     "data": {
      "image/png": "[encoded data removed]",
      "text/plain": [
       "<Figure size 432x288 with 1 Axes>"
      ]
     },
     "metadata": {
      "needs_background": "light"
     },
     "output_type": "display_data"
    }
   ],
   "source": [
    "import numpy as np\n",
    "import matplotlib.pyplot as plt\n",
    "from fealpy.mesh import TriangleMesh\n",
    "\n",
    "node = np.array([\n",
    "    (0,0),\n",
    "    (1,0),\n",
    "    (0.5,0.5),\n",
    "    (0.5,0.25)\n",
    "], dtype=np.float64)\n",
    "cell = np.array([\n",
    "    (1,2,3),\n",
    "    (0,3,2),\n",
    "    (0,1,3)\n",
    "])\n",
    "mesh = TriangleMesh(node, cell)\n",
    "mesh.uniform_refine(0)\n",
    "\n",
    "fig = plt.figure()\n",
    "ax = fig.gca()\n",
    "\n",
    "mesh.add_plot(ax)\n",
    "mesh.find_node(ax, showindex=True)\n",
    "mesh.find_cell(ax, showindex=True)"
   ]
  },
  {
   "cell_type": "code",
   "execution_count": 16,
   "id": "a8300203",
   "metadata": {},
   "outputs": [
    {
     "data": {
      "image/png": "[encoded data removed]",
      "text/plain": [
       "<Figure size 432x288 with 1 Axes>"
      ]
     },
     "metadata": {
      "needs_background": "light"
     },
     "output_type": "display_data"
    }
   ],
   "source": [
    "node = np.array([\n",
    "    (0,0),\n",
    "    (1,0),\n",
    "    (1,1),\n",
    "    (0,1)\n",
    "], dtype=np.float64)\n",
    "cell = np.array([\n",
    "    (0,1,3),\n",
    "    (1,2,3)\n",
    "])\n",
    "\n",
    "n = 1\n",
    "mesh = TriangleMesh(node, cell)\n",
    "mesh.uniform_refine(n)\n",
    "\n",
    "fig = plt.figure()\n",
    "ax = fig.gca()\n",
    "\n",
    "mesh.add_plot(ax)\n",
    "mesh.find_node(ax, showindex=True)\n",
    "mesh.find_cell(ax, showindex=True)"
   ]
  },
  {
   "cell_type": "code",
   "execution_count": 14,
   "id": "f88035fe",
   "metadata": {},
   "outputs": [
    {
     "name": "stdout",
     "output_type": "stream",
     "text": [
      "node0=  [[0. 0.]\n",
      " [1. 0.]\n",
      " [1. 1.]\n",
      " [0. 1.]]\n",
      "cell0=  [[0 1 3]\n",
      " [1 2 3]]\n",
      "node1=  [[0.  0. ]\n",
      " [1.  0. ]\n",
      " [1.  1. ]\n",
      " [0.  1. ]\n",
      " [0.5 0. ]\n",
      " [0.  0.5]\n",
      " [1.  0.5]\n",
      " [0.5 0.5]\n",
      " [0.5 1. ]]\n",
      "cell1=  [[0 4 5]\n",
      " [1 6 7]\n",
      " [4 1 7]\n",
      " [6 2 8]\n",
      " [5 7 3]\n",
      " [7 8 3]\n",
      " [7 5 4]\n",
      " [8 7 6]]\n"
     ]
    }
   ],
   "source": [
    "if n == 0:\n",
    "    node0 = mesh.entity('node') \n",
    "    cell0 = mesh.entity('cell') \n",
    "elif n == 1:\n",
    "    node1 = mesh.entity('node')\n",
    "    cell1 = mesh.entity('cell')\n",
    "    \n",
    "print(\"node0= \", node0)\n",
    "print(\"cell0= \", cell0)\n",
    "print(\"node1= \", node1)\n",
    "print(\"cell1= \", cell1)"
   ]
  },
  {
   "cell_type": "code",
   "execution_count": 2,
   "id": "136a2228",
   "metadata": {},
   "outputs": [
    {
     "data": {
      "text/plain": [
       "[<matplotlib.lines.Line2D at 0x7f4d19405f10>]"
      ]
     },
     "execution_count": 2,
     "metadata": {},
     "output_type": "execute_result"
    },
    {
     "data": {
      "image/png": "[encoded data removed]",
      "text/plain": [
       "<Figure size 432x288 with 1 Axes>"
      ]
     },
     "metadata": {
      "needs_background": "light"
     },
     "output_type": "display_data"
    }
   ],
   "source": [
    "import numpy as np\n",
    "import matplotlib.pyplot as plt\n",
    "\n",
    "x = np.linspace(0, 1, 20)\n",
    "y = np.sin(x) + (x - 1) * np.cos(x)\n",
    "\n",
    "plt.plot(x, y)"
   ]
  },
  {
   "cell_type": "code",
   "execution_count": 3,
   "id": "050b6524",
   "metadata": {},
   "outputs": [
    {
     "name": "stdout",
     "output_type": "stream",
     "text": [
      "a=  [0, 1, 2, 3, 4, 5, 6, 7, 8, 9]\n",
      "a[::2]=  [0, 2, 4, 6, 8]\n",
      "a[1::2]=  [1, 3, 5, 7, 9]\n"
     ]
    }
   ],
   "source": [
    "import numpy as np\n",
    "\n",
    "a = list(range(10))\n",
    "\n",
    "print(\"a= \", a)\n",
    "print(\"a[::2]= \", a[::2])\n",
    "print(\"a[1::2]= \", a[1::2])"
   ]
  },
  {
   "cell_type": "code",
   "execution_count": 5,
   "id": "9a72e89b",
   "metadata": {},
   "outputs": [],
   "source": [
    "\n",
    "\n"
   ]
  },
  {
   "cell_type": "code",
   "execution_count": null,
   "id": "3d8c6726",
   "metadata": {},
   "outputs": [],
   "source": []
  }
 ],
 "metadata": {
  "kernelspec": {
   "display_name": "Python 3 (ipykernel)",
   "language": "python",
   "name": "python3"
  },
  "language_info": {
   "codemirror_mode": {
    "name": "ipython",
    "version": 3
   },
   "file_extension": ".py",
   "mimetype": "text/x-python",
   "name": "python",
   "nbconvert_exporter": "python",
   "pygments_lexer": "ipython3",
   "version": "3.9.12"
  }
 },
 "nbformat": 4,
 "nbformat_minor": 5
}
