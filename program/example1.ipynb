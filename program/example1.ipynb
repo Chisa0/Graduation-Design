{
 "cells": [
  {
   "cell_type": "code",
   "execution_count": 4,
   "id": "4d910edd",
   "metadata": {},
   "outputs": [
    {
     "name": "stdout",
     "output_type": "stream",
     "text": [
      "1.25\n"
     ]
    }
   ],
   "source": [
    "from scipy.integrate import dblquad\n",
    "\n",
    "def f(x, y):\n",
    "    return x * y\n",
    "\n",
    "def g(x, y):\n",
    "    return x + y\n",
    "\n",
    "def w(x, y):\n",
    "    return f(x, y) + g(x, y)\n",
    "\n",
    "a, b = 0, 1\n",
    "c, d = 0, 1\n",
    "\n",
    "result, error = dblquad(w, a, b, c, d)\n",
    "print(result)"
   ]
  },
  {
   "cell_type": "code",
   "execution_count": 9,
   "id": "6824ec58",
   "metadata": {},
   "outputs": [
    {
     "name": "stdout",
     "output_type": "stream",
     "text": [
      "[2 3]\n"
     ]
    }
   ],
   "source": [
    "import numpy as np\n",
    "\n",
    "a = np.array([1,2])\n",
    "h = lambda x : x + 1\n",
    "print(h(a))"
   ]
  },
  {
   "cell_type": "code",
   "execution_count": null,
   "id": "dc603460",
   "metadata": {},
   "outputs": [],
   "source": []
  }
 ],
 "metadata": {
  "kernelspec": {
   "display_name": "Python 3 (ipykernel)",
   "language": "python",
   "name": "python3"
  },
  "language_info": {
   "codemirror_mode": {
    "name": "ipython",
    "version": 3
   },
   "file_extension": ".py",
   "mimetype": "text/x-python",
   "name": "python",
   "nbconvert_exporter": "python",
   "pygments_lexer": "ipython3",
   "version": "3.9.12"
  }
 },
 "nbformat": 4,
 "nbformat_minor": 5
}
